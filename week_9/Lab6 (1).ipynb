{
 "cells": [
  {
   "cell_type": "markdown",
   "metadata": {
    "id": "Gw5o-c0odkX0"
   },
   "source": [
    "\n",
    "# STOR 320: Introduction to Data Science\n",
    "## Lab 6\n",
    "\n",
    "**Name:**\n",
    "\n",
    "**PID:**"
   ]
  },
  {
   "cell_type": "code",
   "execution_count": null,
   "metadata": {
    "id": "O1NhFft9e6oF"
   },
   "outputs": [],
   "source": [
    "from datetime import datetime\n",
    "from bs4 import BeautifulSoup\n",
    "from io import StringIO\n",
    "import numpy as np\n",
    "import pandas as pd\n",
    "import matplotlib.pyplot as plt\n",
    "import seaborn as sns\n",
    "import requests"
   ]
  },
  {
   "cell_type": "code",
   "execution_count": null,
   "metadata": {},
   "outputs": [],
   "source": [
    "%pip install html5lib"
   ]
  },
  {
   "cell_type": "markdown",
   "metadata": {
    "id": "BtnORIYQ82OD"
   },
   "source": [
    "# Scraping, Merging, and Analyzing Datasets for Countries (25 points)\n",
    "\n",
    "**Background:** Many times in data science, your data will be split between many different sources, some of which may be online. In this analysis assignment, we will webscrape country level data from multiple websites, clean the data individually, and merge the data. The website [Worldometers](https://www.worldometers.info/) contains very interesting country level data that when connected may allow us to learn interesting things about the wonderful world in which we exist."
   ]
  },
  {
   "cell_type": "markdown",
   "metadata": {
    "id": "DFCyg5sU9nVg"
   },
   "source": [
    "## 0. GDP by Country (7 Points)\n",
    "Information at [Worldometer GDP](https://www.worldometers.info/gdp/gdp-by-country/) contains GDP data from 2022 published by the world bank. GDP is the monetary value of goods and services produced within a country over a period of time. On this website, GDP is presented in dollars."
   ]
  },
  {
   "cell_type": "markdown",
   "metadata": {
    "id": "nz13huHt-Tfg"
   },
   "source": [
    "### 0.0 Scraping the Data\n",
    "We will walk through webscraping the data from https://www.worldometers.info/gdp/gdp-by-country/ using Pandas into a DataFrame called GDP. You should end up with a new object called GDP which is a DataFrame with 177 observations and 8 variables."
   ]
  },
  {
   "cell_type": "code",
   "execution_count": null,
   "metadata": {
    "id": "BpSRit839m0N"
   },
   "outputs": [],
   "source": [
    "URL_GDP = \"https://www.worldometers.info/gdp/gdp-by-country/\"\n",
    "\n",
    "# Send a GET request to the URL\n",
    "response = requests.get(URL_GDP)\n",
    "\n",
    "# Parse the HTML content\n",
    "soup = BeautifulSoup(response.content, 'html.parser')\n",
    "\n",
    "# Find all tables and read into pandas DataFrame\n",
    "tables = soup.find_all('table')\n",
    "\n",
    "table_IO = StringIO(str(tables))\n",
    "GDP = pd.read_html(table_IO, flavor='bs4', header=0)[0]  # Read the first table\n",
    "\n",
    "GDP.shape"
   ]
  },
  {
   "cell_type": "code",
   "execution_count": null,
   "metadata": {
    "id": "IrAKzK_E-63o"
   },
   "outputs": [],
   "source": [
    "GDP.head(5)"
   ]
  },
  {
   "cell_type": "markdown",
   "metadata": {
    "id": "t3aHYGDo-_R2"
   },
   "source": [
    "### 0.1 Cleaning the Data (7 points)\n",
    "\n",
    "Now that we scraped our data into a DataFrame, we need to clean it up. Perform the following tasks:\n",
    "\n",
    "1.   Remove the first ('#') and fourth ('GDP (abbrev.)') columns from the DataFrame.\n",
    "2.   Rename the columns 'GDP  (nominal, 2022)', 'GDP growth', 'Population  (2022)', 'GDP per capita', and 'Share of  World GDP' to 'GDP', 'Growth', 'Population', 'PerCapita', and 'Share', respectively.\n",
    "3.   Remove all dollar signs, percent signs, and commas from 'GDP', 'Growth', 'PerCapita', and 'Share'.\n",
    "4.  Update column data type of \"Country\" to be a string dtype and the remaining columns to be numeric. Hint: use `pd.to_numeric`\n",
    "5. Rewrite over the original 'GDP' variable with a new variable called 'GDP' that is in trillions of dollars rather than in actual dollars. Rewrite over the original 'Population' variable with a new variable of the same name that is in millions of people rather than in actual people. You are scaling the original variables to change the units without changing the variable names.\n",
    "\n",
    "Be careful of the formatting and spacing in the original column names! Display the first five rows of the cleaned `GDP` DataFrame and the dtype info for `GDP`.\n",
    "\n"
   ]
  },
  {
   "cell_type": "code",
   "execution_count": null,
   "metadata": {
    "id": "dKXshhbe_1V2"
   },
   "outputs": [],
   "source": [
    "# Code Solution Here"
   ]
  },
  {
   "cell_type": "markdown",
   "metadata": {
    "id": "4ExGvJDzEgvS"
   },
   "source": [
    "## 1. Education Index Data by Country (3 Points)\n",
    "\n",
    "Check out the [Wikipedia page](https://en.wikipedia.org/wiki/Education_Index), which contains the education index for all countries from 1990 to 2019."
   ]
  },
  {
   "cell_type": "markdown",
   "metadata": {
    "id": "uCcsppANFQdu"
   },
   "source": [
    "### 1.0 Scraping the Education Index Data\n",
    "The code provided scrapes the data from (https://en.wikipedia.org/wiki/Education_Index) into a data frame called EDU."
   ]
  },
  {
   "cell_type": "code",
   "execution_count": null,
   "metadata": {
    "id": "CVtAj-JDEwZw"
   },
   "outputs": [],
   "source": [
    "# URL to fetch data from\n",
    "URL_EDU = \"https://en.wikipedia.org/wiki/Education_Index\"\n",
    "\n",
    "# Fetch the HTML content\n",
    "response = requests.get(URL_EDU)\n",
    "soup = BeautifulSoup(response.content, 'html.parser')\n",
    "\n",
    "# Find the table and read it into a DataFrame\n",
    "table = soup.find_all('table')[0]  # Assuming the first table is the one we want\n",
    "table_IO = StringIO(str(table))\n",
    "EDU = pd.read_html(table_IO, flavor='bs4', header=0)[0]\n",
    "\n",
    "EDU.head(5)"
   ]
  },
  {
   "cell_type": "markdown",
   "metadata": {
    "id": "g6aimlTHJ1eo"
   },
   "source": [
    "### 1.1 Cleaning the Education Data (3 points)\n",
    "Perform the following tasks to clean the `EDU` DataFrame:\n",
    "\n",
    "1. Modify the resulting DataFrame `EDU` to only keep 2 variables: 1) the country’s name and 2) its education index from 2019.\n",
    "2. Rename the variable named “2019” to “EDIndex”.\n",
    "3. Update the dtype of 'Country' to a string.  \n",
    "\n",
    "Display the first 5 rows of `EDU` and the info of `EDU` after making these changes."
   ]
  },
  {
   "cell_type": "code",
   "execution_count": null,
   "metadata": {
    "id": "jQdE9YokGw_R"
   },
   "outputs": [],
   "source": [
    "# Code Solution Here"
   ]
  },
  {
   "cell_type": "markdown",
   "metadata": {
    "id": "WMjecRwgJ_OM"
   },
   "source": [
    "## 2: Merging the Datasets (8 points)\n",
    "\n",
    "Now, we are going to merge the datasets for maximum gains. Make sure you carefully read the instructions for each question. Be very careful in this part of the assignment."
   ]
  },
  {
   "cell_type": "markdown",
   "metadata": {
    "id": "j_3YMHidKNkQ"
   },
   "source": [
    "### 2.0 Joining GDP and EDU (2 Points)\n",
    "The dataset `GDP` is our primary dataset. Create a new DataFrame `GDP_EDU` that brings the the education data from `EDU` into the dataset `GDP` using a left join only. Display the first 12 rows of `GDP_EDU`."
   ]
  },
  {
   "cell_type": "code",
   "execution_count": null,
   "metadata": {
    "id": "FUM4PUNnKb8m"
   },
   "outputs": [],
   "source": [
    "# Code Solution Here"
   ]
  },
  {
   "cell_type": "markdown",
   "metadata": {
    "id": "oJN0LaQeLlH1"
   },
   "source": [
    "### 2.1 Missing Education Index (2 Points)\n",
    "\n",
    "How many countries in `GDP_EDU` have missing values for Education Index? Show code that can be used to answer this question and then write your answer in complete sentences."
   ]
  },
  {
   "cell_type": "code",
   "execution_count": null,
   "metadata": {
    "id": "6dqe8ujjMg9o"
   },
   "outputs": [],
   "source": [
    "# Code Solution Here"
   ]
  },
  {
   "cell_type": "markdown",
   "metadata": {
    "id": "24d4C3WqMi3V"
   },
   "source": [
    "Answer:"
   ]
  },
  {
   "cell_type": "markdown",
   "metadata": {
    "id": "rMyUH1hCMsLY"
   },
   "source": [
    "### 2.2 Data Inspection (3 Points)\n",
    "Closely inspect the original datasets and answer the following questions about GDP_EDU in complete sentences. You can use the code if needed, but it is not required. Please show all work. If you don’t reference the appropriate dataset or you are not specific in your answers, you will get 0 points."
   ]
  },
  {
   "cell_type": "markdown",
   "metadata": {
    "id": "oRG85iC8NFIq"
   },
   "source": [
    "#### 2.2.0 Why is there no education index for Iran in the dataset `G_EDU`? (1 Point)"
   ]
  },
  {
   "cell_type": "markdown",
   "metadata": {
    "id": "4n3P8gzBNMXH"
   },
   "source": [
    "Answer:"
   ]
  },
  {
   "cell_type": "markdown",
   "metadata": {
    "id": "Ice-kEpJNmHq"
   },
   "source": [
    "#### 2.2.1 Why is there no education index for State of Palestine in the dataset `GDP_EDU`? (1 Point)"
   ]
  },
  {
   "cell_type": "markdown",
   "metadata": {
    "id": "SUeX2RAdN7Z2"
   },
   "source": [
    "Answer:"
   ]
  },
  {
   "cell_type": "markdown",
   "metadata": {
    "id": "vqum5LyvOAWa"
   },
   "source": [
    "#### 2.2.2 Why is there no education index for Laos in the dataset `GDP_EDU`? (1 point)"
   ]
  },
  {
   "cell_type": "markdown",
   "metadata": {
    "id": "iT6jN_vWOLID"
   },
   "source": [
    "Answer:"
   ]
  },
  {
   "cell_type": "markdown",
   "metadata": {
    "id": "q5lvXvaCPUdf"
   },
   "source": [
    "### 2.2 Removing NA Values (1 point)\n",
    "\n",
    "Instead of replacing or dropping all the countries with missing values by hand, we will just drop all rows that are missing the Education Index to move forward with the analysis portion. Drop all rows from `GDP_EDU` that are null for `EDIndex`.\n",
    "\n"
   ]
  },
  {
   "cell_type": "code",
   "execution_count": null,
   "metadata": {
    "id": "WUgW_EA7P72q"
   },
   "outputs": [],
   "source": [
    "# Code Solution Here"
   ]
  },
  {
   "cell_type": "markdown",
   "metadata": {
    "id": "I79nDD9XQgJa"
   },
   "source": [
    "## 3. Analyzing the Merged Dataset (12 points)\n",
    "\n",
    "In these questions, find the answer using code, and then answer the question using complete sentences below the code."
   ]
  },
  {
   "cell_type": "markdown",
   "metadata": {
    "id": "d4R_GMZNQXjA"
   },
   "source": [
    "### 3.0 Above Average GDP PerCapita (2 Points)\n",
    "How many countries have a GDP per capita above the global average?"
   ]
  },
  {
   "cell_type": "code",
   "execution_count": null,
   "metadata": {
    "id": "bhFr3T5KRom4"
   },
   "outputs": [],
   "source": [
    "# Code Solution Here"
   ]
  },
  {
   "cell_type": "markdown",
   "metadata": {
    "id": "8QPOZi6RRo3i"
   },
   "source": [
    "Answer:"
   ]
  },
  {
   "cell_type": "markdown",
   "metadata": {
    "id": "R-SBUF38SC10"
   },
   "source": [
    "#### 3.1 Highest GDP Growth Rate (4 Points)\n",
    "\n",
    "*   Of the countries that have above average GDP PerCapita, what country has the highest GDP growth rate?\n",
    "*   Of the countries that have below average GDP PerCapita, what country has the highest GDP growth rate?"
   ]
  },
  {
   "cell_type": "code",
   "execution_count": null,
   "metadata": {
    "id": "XUwOvFUpSWoI"
   },
   "outputs": [],
   "source": [
    "# Code Solution Here"
   ]
  },
  {
   "cell_type": "markdown",
   "metadata": {
    "id": "VoZN-T1jSg0o"
   },
   "source": [
    "Answer:"
   ]
  },
  {
   "cell_type": "markdown",
   "metadata": {
    "id": "jClnIT_ESmOa"
   },
   "source": [
    "#### 3.2 Lowest Education Index (4 Points)\n",
    "\n",
    "*   Of the countries that have above average GDP PerCapita, what country has the lowest education index?\n",
    "*   Of the countries that have below average GDP PerCapita, what country has the lowest education index?"
   ]
  },
  {
   "cell_type": "code",
   "execution_count": null,
   "metadata": {
    "id": "sKTAa-2FSvhz"
   },
   "outputs": [],
   "source": [
    "# Code Solution Here"
   ]
  },
  {
   "cell_type": "markdown",
   "metadata": {
    "id": "zvNLdg2xTTzs"
   },
   "source": [
    "Answer:"
   ]
  },
  {
   "cell_type": "markdown",
   "metadata": {
    "id": "X0Zindd6TaWL"
   },
   "source": [
    "#### 3.3 Critical Thinking (2 points)\n",
    "\n",
    "State two additional questions you could answer with the merged dataset. Be creative. You do not need to find the answer, but are welcome to if you are curious."
   ]
  },
  {
   "cell_type": "markdown",
   "metadata": {
    "id": "q2bAH32CTnAd"
   },
   "source": [
    "Answer:"
   ]
  }
 ],
 "metadata": {
  "colab": {
   "collapsed_sections": [
    "VvovrpUMe-Ox",
    "6s94bGs1d0qV",
    "vEv6udTVejAs",
    "cQ08LJCYj3Gx",
    "J9RFL4bCnbkm",
    "BtnORIYQ82OD",
    "DFCyg5sU9nVg",
    "4ExGvJDzEgvS",
    "WMjecRwgJ_OM",
    "I79nDD9XQgJa"
   ],
   "provenance": []
  },
  "kernelspec": {
   "display_name": "Python 3 (ipykernel)",
   "language": "python",
   "name": "python3"
  },
  "language_info": {
   "codemirror_mode": {
    "name": "ipython",
    "version": 3
   },
   "file_extension": ".py",
   "mimetype": "text/x-python",
   "name": "python",
   "nbconvert_exporter": "python",
   "pygments_lexer": "ipython3",
   "version": "3.11.4"
  }
 },
 "nbformat": 4,
 "nbformat_minor": 4
}
