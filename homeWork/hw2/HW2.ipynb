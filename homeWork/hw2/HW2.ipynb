{
 "cells": [
  {
   "cell_type": "markdown",
   "id": "91e5d13a",
   "metadata": {},
   "source": [
    "# Homework 2\n",
    "\n",
    "Please submit the solution to gradescope by 11:59 PM, Sept 26, Thursday."
   ]
  },
  {
   "cell_type": "markdown",
   "id": "96503059",
   "metadata": {},
   "source": [
    "**Name**: Conor Jones\n",
    "\n",
    "**PID**: 730665579\n"
   ]
  },
  {
   "cell_type": "markdown",
   "id": "c50b80ed",
   "metadata": {},
   "source": [
    "# Problem 1  Sales Data Analysis (35 Points)\n",
    "**Dataset:** You will work with a simulated dataset representing the monthly sales data for a fictional company over a period of 3 years (36 months). The dataset is provided as a NumPy array."
   ]
  },
  {
   "cell_type": "markdown",
   "id": "5207a397",
   "metadata": {
    "id": "znxePhz1kqd4"
   },
   "source": [
    "### 1.0 . Setup and Initialization\n",
    "\n",
    "Import NumPy and initialize the dataset as a NumPy array."
   ]
  },
  {
   "cell_type": "code",
   "execution_count": 36,
   "id": "a6f44541",
   "metadata": {
    "id": "F5mMB96sp8HS"
   },
   "outputs": [],
   "source": [
    "import numpy as np\n",
    "\n",
    "sales_data = np.array([207, 217, 244, 269, 247, 248, 273, 260, 243, 265, 263, 280,\n",
    "                       310, 296, 313, 340, 336, 356, 335, 327, 374, 358, 376, 372,\n",
    "                       405, 432, 425, 455, 443, 446, 439, 477, 454, 449, 494, 482])"
   ]
  },
  {
   "cell_type": "markdown",
   "id": "812e904f",
   "metadata": {
    "id": "qin2HvyclrJs"
   },
   "source": [
    "### 1.1 Monthly Analysis (15 Points)\n",
    "Using the `sales_data` array, perform the following tasks:\n",
    "1. Calculate the total sales for each year, and store the result in a NumPy array `total_sales_per_year`. Display the `total_sales_per_year`. (2 points)\n",
    "\n",
    "2. Calculate the average monthly sales for each year, and store the result in a NumPy array `average_monthly_sales_per_year`. Display the `average_monthly_sales_per_year`. (2 points)\n",
    "\n",
    "3. Calculate the average season sales for each year, and store the result in a `3` by `4` NumPy array `average_season_sales_per_year`. Each row represent a year, and each column represent a season. Display the `average_season_sales_per_year`. (6 points)\n",
    "\n",
    "4. Identify the month with the highest sales and the month with the lowest sales on average over the three year period. Store the numerical representation (1-12) of the month in the variables `max_sales_month` and `min_sales_month`. (5 points)\n",
    "\n",
    "You can assume the years are in chronological order. For example, the first value represents sales in January of Year 1 and the last value represents sales in December of Year 3.\n"
   ]
  },
  {
   "cell_type": "code",
   "execution_count": 37,
   "id": "e2a037c3",
   "metadata": {},
   "outputs": [
    {
     "name": "stdout",
     "output_type": "stream",
     "text": [
      "[3016 4093 5401]\n"
     ]
    }
   ],
   "source": [
    "sales_data_reshaped = sales_data.reshape(3, 12)\n",
    "\n",
    "total_sales_per_year = np.sum(sales_data_reshaped, axis=1)\n",
    "print(total_sales_per_year)"
   ]
  },
  {
   "cell_type": "code",
   "execution_count": 38,
   "id": "2e1bc00d",
   "metadata": {},
   "outputs": [
    {
     "name": "stdout",
     "output_type": "stream",
     "text": [
      "[251.33333333 341.08333333 450.08333333]\n"
     ]
    }
   ],
   "source": [
    "average_monthly_sales_per_year = np.mean(sales_data_reshaped, axis=1)\n",
    "print(average_monthly_sales_per_year)"
   ]
  },
  {
   "cell_type": "code",
   "execution_count": 39,
   "id": "24322003",
   "metadata": {},
   "outputs": [
    {
     "name": "stdout",
     "output_type": "stream",
     "text": [
      "[[222.66666667 254.66666667 258.66666667 269.33333333]\n",
      " [306.33333333 344.         345.33333333 368.66666667]\n",
      " [420.66666667 448.         456.66666667 475.        ]]\n"
     ]
    }
   ],
   "source": [
    "average_season_sales_per_year = np.mean(sales_data_reshaped.reshape(3, 4, 3), axis=2)\n",
    "print(average_season_sales_per_year)\n"
   ]
  },
  {
   "cell_type": "code",
   "execution_count": 40,
   "id": "419ed26e",
   "metadata": {},
   "outputs": [
    {
     "name": "stdout",
     "output_type": "stream",
     "text": [
      "12 1\n"
     ]
    }
   ],
   "source": [
    "average_sales_per_month = np.mean(sales_data_reshaped, axis=0)\n",
    "\n",
    "max_sales_month = np.argmax(average_sales_per_month) + 1\n",
    "min_sales_month = np.argmin(average_sales_per_month) + 1\n",
    "print(max_sales_month, min_sales_month)"
   ]
  },
  {
   "cell_type": "markdown",
   "id": "8694ed4e",
   "metadata": {
    "id": "EK2htmDFl96J"
   },
   "source": [
    "### 1.2 Growth Rate Calculation (5 Points)\n",
    "Write a function `calculate_growth_rate(data)` that takes the `sales_data` array as input and returns the growth rates for each month in a NumPy array. You can assume the growth rate for the first month is 0.01.\n",
    "\n",
    "Calculate the monthly growth rate of sales using the formula:\n",
    "\n",
    "$$\\text{growth\\_rate}_i = \\frac{\\text{sales\\_data}_i - \\text{sales\\_data}_{i-1}}{\\text{sales\\_data}_{i-1}}$$\n",
    "\n",
    "Display the result of `calculate_growth_rate(sales_data)`."
   ]
  },
  {
   "cell_type": "code",
   "execution_count": 66,
   "id": "35b1fdd9",
   "metadata": {},
   "outputs": [
    {
     "name": "stdout",
     "output_type": "stream",
     "text": [
      "[ 0.01        0.04830918  0.12442396  0.10245902 -0.08178439  0.00404858\n",
      "  0.10080645 -0.04761905 -0.06538462  0.09053498 -0.00754717  0.06463878\n",
      "  0.10714286 -0.04516129  0.05743243  0.08626198 -0.01176471  0.05952381\n",
      " -0.05898876 -0.0238806   0.14373089 -0.04278075  0.05027933 -0.0106383\n",
      "  0.08870968  0.06666667 -0.0162037   0.07058824 -0.02637363  0.00677201\n",
      " -0.01569507  0.08656036 -0.04821803 -0.01101322  0.10022272 -0.0242915 ]\n"
     ]
    }
   ],
   "source": [
    "def calculate_growth_rate(data):\n",
    "    growth_rate = np.ones(len(data))\n",
    "    growth_rate[0] = 0.01\n",
    "    for i in range(1,len(data)):\n",
    "        growth_rate[i] = (data[i] - data[i-1]) / data[i-1]\n",
    "    return growth_rate\n",
    "\n",
    "growth_rates = calculate_growth_rate(sales_data)\n",
    "print(growth_rates)\n"
   ]
  },
  {
   "cell_type": "markdown",
   "id": "4bcc4dc2",
   "metadata": {
    "id": "MA5ufhizT8OI"
   },
   "source": [
    "### 1.3 Growth Rate Summary (5 Points)\n",
    "Identify the following months:\n",
    "\n",
    "*   The months in the past three years saw the largest increase and the largest decrease in sales (i.e. from January to February of Year 1 we saw the largest decrease in sales)\n",
    "*   The month on average with the largest increase and largest decrease in sales\n",
    "\n",
    "Show both the python code and conclusion.\n"
   ]
  },
  {
   "cell_type": "code",
   "execution_count": 67,
   "id": "5dd8fc79",
   "metadata": {},
   "outputs": [
    {
     "name": "stdout",
     "output_type": "stream",
     "text": [
      "21 5 4\n"
     ]
    }
   ],
   "source": [
    "largest_growth = np.argmax(growth_rates) + 1\n",
    "smallest_growth = np.argmin(growth_rates) + 1\n",
    "\n",
    "reshaped_growth_rates = growth_rates.reshape(3, 12)\n",
    "average_growth_rates_per_month = np.mean(reshaped_growth_rates, axis=0)\n",
    "\n",
    "month_with_largest_average_growth = np.argmax(average_growth_rates_per_month) + 1\n",
    "\n",
    "print(largest_growth, smallest_growth, month_with_largest_average_growth)\n"
   ]
  },
  {
   "cell_type": "markdown",
   "id": "1d264b01",
   "metadata": {},
   "source": [
    "Largest increase in sales: January (Month 1), Largest decrease in sales: May (Month 5), Highest average growth over the 3 years: August (Month 8)"
   ]
  },
  {
   "cell_type": "markdown",
   "id": "881b8b77",
   "metadata": {
    "id": "G21OsK_la3N5"
   },
   "source": [
    "### 1.4 Moving Average (5 points)\n",
    "\n",
    "Calculate the 3-month moving average of the `sales_data` and store the result in a NumPy array called `moving_average`. The calculation starts from the third month in Year 1.\n"
   ]
  },
  {
   "cell_type": "markdown",
   "id": "5adf7866",
   "metadata": {},
   "source": [
    "The three-period moving average for month $t$ is calculated as:\n",
    "\n",
    "\n",
    "$$\\text{MA}_3(t) = \\frac{x_t + x_{t-1} + x_{t-2}}{3}.$$\n",
    "\n",
    "Where:\n",
    "- $x_t$ is the sales in month $t$,\n",
    "- $x_{t-1}$ is the sales in month $t-1$,\n",
    "- $x_{t-2}$ is the sales in month $t-2$.\n",
    "\n",
    "Display the `moving_average`."
   ]
  },
  {
   "cell_type": "code",
   "execution_count": 44,
   "id": "3ae6a82a",
   "metadata": {},
   "outputs": [
    {
     "name": "stdout",
     "output_type": "stream",
     "text": [
      "[222.66666667 243.33333333 253.33333333 254.66666667 256.\n",
      " 260.33333333 258.66666667 256.         257.         269.33333333\n",
      " 284.33333333 295.33333333 306.33333333 316.33333333 329.66666667\n",
      " 344.         342.33333333 339.33333333 345.33333333 353.\n",
      " 369.33333333 368.66666667 384.33333333 403.         420.66666667\n",
      " 437.33333333 441.         448.         442.66666667 454.\n",
      " 456.66666667 460.         465.66666667 475.        ]\n"
     ]
    }
   ],
   "source": [
    "moving_average = np.array([np.mean(sales_data[i:i+3]) for i in range(len(sales_data)-2)])\n",
    "print(moving_average)\n"
   ]
  },
  {
   "cell_type": "markdown",
   "id": "61a7604e",
   "metadata": {
    "id": "GA8BdljscD_6"
   },
   "source": [
    "### 1.5 Sales Anomaly Detection (5 points)\n",
    "\n",
    "Write a function `sales_anomaly_detection(sales_data)` that takes the `sales_data` array as input, identify months where sales were significantly higher or lower than the previous month's sales (more than 12% change), and returns a dictionary mapping the month number (1-36) to the sales data for all anomalous months.\n",
    "\n",
    "Display the result of `sales_anomaly_detection(sales_data)`."
   ]
  },
  {
   "cell_type": "code",
   "execution_count": 69,
   "id": "f7b2feaf",
   "metadata": {},
   "outputs": [
    {
     "name": "stdout",
     "output_type": "stream",
     "text": [
      "{3: 244, 21: 374}\n"
     ]
    }
   ],
   "source": [
    "def sales_anomaly_detection(sales_data):\n",
    "    anomalies = {}\n",
    "    growth_rates = calculate_growth_rate(sales_data)\n",
    "    for i in range(1, len(growth_rates)):\n",
    "        if abs(growth_rates[i]) > 0.12:\n",
    "            anomalies[i+1] = sales_data[i]\n",
    "    return anomalies\n",
    "\n",
    "anomalous_months = sales_anomaly_detection(sales_data)\n",
    "print(anomalous_months)\n"
   ]
  },
  {
   "cell_type": "markdown",
   "id": "46c2684b",
   "metadata": {
    "id": "Ow2Ek3aODGPe"
   },
   "source": [
    "# Problem 2: Analysis on the diamonds dataset (65 points)\n",
    "\n",
    "Here is a brief description of the key columns in the **`diamonds`** dataset from Seaborn:\n",
    "\n",
    "\n",
    "**`Carat`**: The weight of the diamond (continuous variable). Larger diamonds have higher carat values.\n",
    "\n",
    "\n",
    "**`Cut`**: The quality of the diamond's cut (categorical variable).\n",
    "\n",
    "\n",
    "**`Color`**: The diamond’s color grade (categorical variable). \n",
    "\n",
    "\n",
    "**`Clarity`**: The clarity of the diamond (categorical variable), which indicates how free the diamond is from internal flaws (inclusions) or external blemishes. It ranges from `IF` (Internally Flawless) to `I3` (Included).\n",
    "\n",
    "\n",
    "**`Depth`**: The total depth percentage (continuous variable). It’s the ratio of the depth of the diamond to its average diameter.\n",
    "\n",
    "\n",
    "**`Table`**: The width of the diamond’s top relative to its widest point (expressed as a percentage).\n",
    "\n",
    "\n",
    "**`Price`**: The price of the diamond in US dollars (continuous variable).\n",
    "\n",
    "\n",
    "**`x`**: Length of the diamond in millimeters (continuous variable).\n",
    "\n",
    "\n",
    "**`y`**: Width of the diamond in millimeters (continuous variable).\n",
    "\n",
    "\n",
    "**`z`**: Depth of the diamond in millimeters (continuous variable).\n",
    "\n",
    "This dataset provides valuable features for exploring the relationship between various attributes and the price of diamonds."
   ]
  },
  {
   "cell_type": "markdown",
   "id": "2ec62c11",
   "metadata": {},
   "source": [
    "#### 2.1 Load the dataset from a `diamonds.csv`. (1 point)\n",
    "\n",
    "#### 2.2 How many different levels are there in the `cut` column? Provide the names of all levels. (4 points)\n",
    "\n",
    "#### 2.3 Create three new columns, `x_in_inch`, `y_in_inch`, and `z_in_inch`, which convert the units of the original `x`, `y`, and `z` from millimeters to inches. Print the new table. (5 points)\n",
    "\n",
    "#### 2.4 Create a new column called `Normalized_depth`, which scales the depth values between 0 and 1. (10 points)\n",
    "\n",
    "The equation to normalize the `depth` column is given as:\n",
    "\n",
    "$$\n",
    "\\text{depth}_{\\text{normalized}} = \\frac{\\text{depth} - \\min(\\text{depth})}{\\max(\\text{depth}) - \\min(\\text{depth})}\n",
    "$$\n",
    "\n",
    "Where:\n",
    "- $ \\text{depth} $ is the original value,\n",
    "- $ \\min(\\text{depth}) $ is the minimum value in the `depth` column,\n",
    "- $ \\max(\\text{depth}) $ is the maximum value in the `depth` column.\n",
    "\n",
    "Print the new table.\n",
    "\n",
    "#### 2.5 Select the rows from the entire table where `clarity` is `SI2`. Drop the columns `color` and `clarity`. Print the selected table. (5 points)\n",
    "\n",
    "#### 2.6 Suppose we have a linear model that predicts the price of a diamond using the `carat` value:\n",
    "\n",
    "$$\n",
    "\\text{Predicted Price}  = 7769 \\times \\text{carat} - 2262.\n",
    "$$\n",
    "\n",
    "In the selected table from 2.5, create a new column called `Predicted_Price`, which contains the predicted price using the above formula. Display the new table. (10 points)\n",
    "\n",
    "#### 2.7 In the new table from 2.6, calculate the difference between the actual price and the predicted price. How many rows have a prediction error that is smaller than 20% of the actual price? (5 points)\n",
    "\n",
    "#### 2.8 Sort the table in 2.7 by 'carat' column in increasing order. Display the first 3 rows and last 3 rows of the sorted table. (5 points). Concatenate the first 3 rows and last 3 rows into a new table. (5 points) (10 points in total)\n",
    "\n",
    "#### 2.9 In the table from 2.7, what is the value of `carat` that has the smallest prediction error? What is the value of `carat` that has the largest prediction error. (5 points)\n",
    "\n",
    "#### 2.10 In the orignal entire table, calculate the average prices for each level of cut. Display the result as a pd.Series. Does a better cut lead to a higher price? (10 points)"
   ]
  },
  {
   "cell_type": "code",
   "execution_count": 46,
   "id": "319e378f",
   "metadata": {},
   "outputs": [
    {
     "name": "stdout",
     "output_type": "stream",
     "text": [
      "   Carat      Cut Color Clarity  depth  table  Price     x     y     z\n",
      "0   0.23    Ideal     E     SI2   61.5   55.0    326  3.95  3.98  2.43\n",
      "1   0.21  Premium     E     SI1   59.8   61.0    326  3.89  3.84  2.31\n",
      "2   0.23     Good     E     VS1   56.9   65.0    327  4.05  4.07  2.31\n",
      "3   0.29  Premium     I     VS2   62.4   58.0    334  4.20  4.23  2.63\n",
      "4   0.31     Good     J     SI2   63.3   58.0    335  4.34  4.35  2.75\n"
     ]
    }
   ],
   "source": [
    "import pandas as pd\n",
    "\n",
    "# Load the dataset\n",
    "diamonds = pd.read_csv('diamonds.csv')\n",
    "print(diamonds.head())\n"
   ]
  },
  {
   "cell_type": "code",
   "execution_count": 47,
   "id": "97c4e75d",
   "metadata": {},
   "outputs": [
    {
     "name": "stdout",
     "output_type": "stream",
     "text": [
      "['Ideal' 'Premium' 'Good' 'Very Good' 'Fair']\n",
      "5\n"
     ]
    }
   ],
   "source": [
    "cut_levels = diamonds['Cut'].unique()\n",
    "print(cut_levels)\n",
    "print(len(cut_levels))\n"
   ]
  },
  {
   "cell_type": "code",
   "execution_count": 61,
   "id": "34d4cbac",
   "metadata": {},
   "outputs": [
    {
     "name": "stdout",
     "output_type": "stream",
     "text": [
      "       x_in_inch  y_in_inch  z_in_inch\n",
      "0       0.155512   0.156693   0.095669\n",
      "1       0.153149   0.151181   0.090945\n",
      "2       0.159448   0.160236   0.090945\n",
      "3       0.165354   0.166535   0.103543\n",
      "4       0.170866   0.171260   0.108268\n",
      "...          ...        ...        ...\n",
      "53935   0.226378   0.226771   0.137795\n",
      "53936   0.224015   0.226378   0.142126\n",
      "53937   0.222834   0.223622   0.140157\n",
      "53938   0.242126   0.240944   0.147244\n",
      "53939   0.229527   0.231102   0.143307\n",
      "\n",
      "[53940 rows x 3 columns]\n"
     ]
    }
   ],
   "source": [
    "diamonds['x_in_inch'] = diamonds['x'] * 0.03937\n",
    "diamonds['y_in_inch'] = diamonds['y'] * 0.03937\n",
    "diamonds['z_in_inch'] = diamonds['z'] * 0.03937\n",
    "print(diamonds[['x_in_inch', 'y_in_inch', 'z_in_inch']])\n"
   ]
  },
  {
   "cell_type": "code",
   "execution_count": 49,
   "id": "fdbde716",
   "metadata": {},
   "outputs": [
    {
     "name": "stdout",
     "output_type": "stream",
     "text": [
      "       depth  Normalized_depth\n",
      "0       61.5          0.513889\n",
      "1       59.8          0.466667\n",
      "2       56.9          0.386111\n",
      "3       62.4          0.538889\n",
      "4       63.3          0.563889\n",
      "...      ...               ...\n",
      "53935   60.8          0.494444\n",
      "53936   63.1          0.558333\n",
      "53937   62.8          0.550000\n",
      "53938   61.0          0.500000\n",
      "53939   62.2          0.533333\n",
      "\n",
      "[53940 rows x 2 columns]\n"
     ]
    }
   ],
   "source": [
    "diamonds['Normalized_depth'] = (diamonds['depth'] - diamonds['depth'].min()) / (diamonds['depth'].max() - diamonds['depth'].min())\n",
    "print(diamonds[['depth', 'Normalized_depth']])\n"
   ]
  },
  {
   "cell_type": "code",
   "execution_count": 50,
   "id": "33a59727",
   "metadata": {},
   "outputs": [
    {
     "name": "stdout",
     "output_type": "stream",
     "text": [
      "       depth  Normalized_depth\n",
      "0       61.5          0.513889\n",
      "1       59.8          0.466667\n",
      "2       56.9          0.386111\n",
      "3       62.4          0.538889\n",
      "4       63.3          0.563889\n",
      "...      ...               ...\n",
      "53935   60.8          0.494444\n",
      "53936   63.1          0.558333\n",
      "53937   62.8          0.550000\n",
      "53938   61.0          0.500000\n",
      "53939   62.2          0.533333\n",
      "\n",
      "[53940 rows x 2 columns]\n"
     ]
    }
   ],
   "source": [
    "diamonds['Normalized_depth'] = (diamonds['depth'] - diamonds['depth'].min()) / (diamonds['depth'].max() - diamonds['depth'].min())\n",
    "print(diamonds[['depth', 'Normalized_depth']])\n"
   ]
  },
  {
   "cell_type": "code",
   "execution_count": 51,
   "id": "06f8001d",
   "metadata": {},
   "outputs": [
    {
     "name": "stdout",
     "output_type": "stream",
     "text": [
      "       Carat        Cut  depth  table  Price     x     y     z  x_in_inch  \\\n",
      "0       0.23      Ideal   61.5   55.0    326  3.95  3.98  2.43   0.155512   \n",
      "4       0.31       Good   63.3   58.0    335  4.34  4.35  2.75   0.170866   \n",
      "13      0.31      Ideal   62.2   54.0    344  4.35  4.37  2.71   0.171260   \n",
      "14      0.20    Premium   60.2   62.0    345  3.79  3.75  2.27   0.149212   \n",
      "16      0.30      Ideal   62.0   54.0    348  4.31  4.34  2.68   0.169685   \n",
      "...      ...        ...    ...    ...    ...   ...   ...   ...        ...   \n",
      "53902   0.77  Very Good   59.9   61.0   2753  5.98  6.01  3.59   0.235433   \n",
      "53915   0.77      Ideal   62.1   56.0   2753  5.84  5.86  3.63   0.229921   \n",
      "53928   0.79    Premium   61.4   58.0   2756  6.03  5.96  3.68   0.237401   \n",
      "53938   0.86    Premium   61.0   58.0   2757  6.15  6.12  3.74   0.242126   \n",
      "53939   0.75      Ideal   62.2   55.0   2757  5.83  5.87  3.64   0.229527   \n",
      "\n",
      "       y_in_inch  z_in_inch  Normalized_depth  \n",
      "0       0.156693   0.095669          0.513889  \n",
      "4       0.171260   0.108268          0.563889  \n",
      "13      0.172047   0.106693          0.533333  \n",
      "14      0.147638   0.089370          0.477778  \n",
      "16      0.170866   0.105512          0.527778  \n",
      "...          ...        ...               ...  \n",
      "53902   0.236614   0.141338          0.469444  \n",
      "53915   0.230708   0.142913          0.530556  \n",
      "53928   0.234645   0.144882          0.511111  \n",
      "53938   0.240944   0.147244          0.500000  \n",
      "53939   0.231102   0.143307          0.533333  \n",
      "\n",
      "[9194 rows x 12 columns]\n"
     ]
    }
   ],
   "source": [
    "diamonds_SI2 = diamonds[diamonds['Clarity'] == 'SI2'].drop(columns=['Color', 'Clarity'])\n",
    "print(diamonds_SI2)\n"
   ]
  },
  {
   "cell_type": "code",
   "execution_count": 52,
   "id": "ef212eec",
   "metadata": {},
   "outputs": [
    {
     "name": "stdout",
     "output_type": "stream",
     "text": [
      "       Carat  Predicted_Price\n",
      "0       0.23          -475.13\n",
      "4       0.31           146.39\n",
      "13      0.31           146.39\n",
      "14      0.20          -708.20\n",
      "16      0.30            68.70\n",
      "...      ...              ...\n",
      "53902   0.77          3720.13\n",
      "53915   0.77          3720.13\n",
      "53928   0.79          3875.51\n",
      "53938   0.86          4419.34\n",
      "53939   0.75          3564.75\n",
      "\n",
      "[9194 rows x 2 columns]\n"
     ]
    }
   ],
   "source": [
    "diamonds_SI2['Predicted_Price'] = 7769 * diamonds_SI2['Carat'] - 2262\n",
    "print(diamonds_SI2[['Carat', 'Predicted_Price']])\n"
   ]
  },
  {
   "cell_type": "code",
   "execution_count": 53,
   "id": "be6e41f6",
   "metadata": {},
   "outputs": [
    {
     "name": "stdout",
     "output_type": "stream",
     "text": [
      "2169\n"
     ]
    }
   ],
   "source": [
    "diamonds_SI2['Prediction_Error'] = abs(diamonds_SI2['Price'] - diamonds_SI2['Predicted_Price']) / diamonds_SI2['Price']\n",
    "\n",
    "small_error_count = len(diamonds_SI2[diamonds_SI2['Prediction_Error'] < 0.2])\n",
    "print(small_error_count)\n"
   ]
  },
  {
   "cell_type": "code",
   "execution_count": 54,
   "id": "c8eabe2a",
   "metadata": {},
   "outputs": [
    {
     "name": "stdout",
     "output_type": "stream",
     "text": [
      "       Carat        Cut  depth  table  Price     x     y     z  x_in_inch  \\\n",
      "14      0.20    Premium   60.2   62.0    345  3.79  3.75  2.27   0.149212   \n",
      "43989   0.21    Premium   61.9   56.0    394  3.84  3.82  2.37   0.151181   \n",
      "0       0.23      Ideal   61.5   55.0    326  3.95  3.98  2.43   0.155512   \n",
      "27518   3.01       Good   63.9   60.0  18242  9.06  9.01  5.77   0.356692   \n",
      "26100   3.04  Very Good   63.2   59.0  15354  9.14  9.07  5.75   0.359842   \n",
      "27638   3.04    Premium   59.3   60.0  18559  9.51  9.46  5.62   0.374409   \n",
      "\n",
      "       y_in_inch  z_in_inch  Normalized_depth  Predicted_Price  \\\n",
      "14      0.147638   0.089370          0.477778          -708.20   \n",
      "43989   0.150393   0.093307          0.525000          -630.51   \n",
      "0       0.156693   0.095669          0.513889          -475.13   \n",
      "27518   0.354724   0.227165          0.580556         21122.69   \n",
      "26100   0.357086   0.226378          0.561111         21355.76   \n",
      "27638   0.372440   0.221259          0.452778         21355.76   \n",
      "\n",
      "       Prediction_Error  \n",
      "14             3.052754  \n",
      "43989          2.600279  \n",
      "0              2.457454  \n",
      "27518          0.157915  \n",
      "26100          0.390892  \n",
      "27638          0.150696  \n"
     ]
    }
   ],
   "source": [
    "sorted_diamonds = diamonds_SI2.sort_values(by='Carat')\n",
    "first_three = sorted_diamonds.head(3)\n",
    "last_three = sorted_diamonds.tail(3)\n",
    "\n",
    "concatenated = pd.concat([first_three, last_three])\n",
    "print(concatenated)\n"
   ]
  },
  {
   "cell_type": "code",
   "execution_count": 55,
   "id": "71bc086f",
   "metadata": {},
   "outputs": [
    {
     "name": "stdout",
     "output_type": "stream",
     "text": [
      "1.79 0.2\n"
     ]
    }
   ],
   "source": [
    "min_error_carat = diamonds_SI2.loc[diamonds_SI2['Prediction_Error'].idxmin()]['Carat']\n",
    "max_error_carat = diamonds_SI2.loc[diamonds_SI2['Prediction_Error'].idxmax()]['Carat']\n",
    "print(min_error_carat, max_error_carat)\n"
   ]
  },
  {
   "cell_type": "code",
   "execution_count": 56,
   "id": "e876e986",
   "metadata": {},
   "outputs": [
    {
     "name": "stdout",
     "output_type": "stream",
     "text": [
      "Cut\n",
      "Fair         4358.757764\n",
      "Good         3928.864452\n",
      "Ideal        3457.541970\n",
      "Premium      4584.257704\n",
      "Very Good    3981.759891\n",
      "Name: Price, dtype: float64\n"
     ]
    }
   ],
   "source": [
    "average_price_by_cut = diamonds.groupby('Cut')['Price'].mean()\n",
    "print(average_price_by_cut)\n"
   ]
  }
 ],
 "metadata": {
  "kernelspec": {
   "display_name": "Python 3 (ipykernel)",
   "language": "python",
   "name": "python3"
  },
  "language_info": {
   "codemirror_mode": {
    "name": "ipython",
    "version": 3
   },
   "file_extension": ".py",
   "mimetype": "text/x-python",
   "name": "python",
   "nbconvert_exporter": "python",
   "pygments_lexer": "ipython3",
   "version": "3.11.4"
  }
 },
 "nbformat": 4,
 "nbformat_minor": 5
}
