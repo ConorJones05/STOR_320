{
 "cells": [
  {
   "cell_type": "markdown",
   "metadata": {
    "id": "Gw5o-c0odkX0"
   },
   "source": [
    "# STOR 320: Introduction to Data Science\n",
    "## Lab 9"
   ]
  },
  {
   "cell_type": "code",
   "execution_count": 1,
   "metadata": {
    "id": "O1NhFft9e6oF"
   },
   "outputs": [
    {
     "name": "stderr",
     "output_type": "stream",
     "text": [
      "c:\\Users\\conor\\AppData\\Local\\Programs\\Python\\Python311\\Lib\\site-packages\\matplotlib\\projections\\__init__.py:63: UserWarning: Unable to import Axes3D. This may be due to multiple versions of Matplotlib being installed (e.g. as a system package and as a pip package). As a result, the 3D projection is not available.\n",
      "  warnings.warn(\"Unable to import Axes3D. This may be due to multiple versions of \"\n"
     ]
    }
   ],
   "source": [
    "import numpy as np\n",
    "import pandas as pd\n",
    "import matplotlib.pyplot as plt\n",
    "import seaborn as sns\n",
    "import statsmodels.api as sm"
   ]
  },
  {
   "cell_type": "markdown",
   "metadata": {},
   "source": [
    "1. We use the following code to generate two columns of features and the target values. Based on the code below, what is the true linear model between `Target` and two features?"
   ]
  },
  {
   "cell_type": "code",
   "execution_count": 2,
   "metadata": {},
   "outputs": [
    {
     "data": {
      "text/html": [
       "<div>\n",
       "<style scoped>\n",
       "    .dataframe tbody tr th:only-of-type {\n",
       "        vertical-align: middle;\n",
       "    }\n",
       "\n",
       "    .dataframe tbody tr th {\n",
       "        vertical-align: top;\n",
       "    }\n",
       "\n",
       "    .dataframe thead th {\n",
       "        text-align: right;\n",
       "    }\n",
       "</style>\n",
       "<table border=\"1\" class=\"dataframe\">\n",
       "  <thead>\n",
       "    <tr style=\"text-align: right;\">\n",
       "      <th></th>\n",
       "      <th>Feature_1</th>\n",
       "      <th>Feature_2</th>\n",
       "      <th>Target</th>\n",
       "    </tr>\n",
       "  </thead>\n",
       "  <tbody>\n",
       "    <tr>\n",
       "      <th>0</th>\n",
       "      <td>0.548814</td>\n",
       "      <td>0.715189</td>\n",
       "      <td>4.515377</td>\n",
       "    </tr>\n",
       "    <tr>\n",
       "      <th>1</th>\n",
       "      <td>0.602763</td>\n",
       "      <td>0.544883</td>\n",
       "      <td>4.030911</td>\n",
       "    </tr>\n",
       "    <tr>\n",
       "      <th>2</th>\n",
       "      <td>0.423655</td>\n",
       "      <td>0.645894</td>\n",
       "      <td>3.335893</td>\n",
       "    </tr>\n",
       "    <tr>\n",
       "      <th>3</th>\n",
       "      <td>0.437587</td>\n",
       "      <td>0.891773</td>\n",
       "      <td>2.980945</td>\n",
       "    </tr>\n",
       "    <tr>\n",
       "      <th>4</th>\n",
       "      <td>0.963663</td>\n",
       "      <td>0.383442</td>\n",
       "      <td>5.527985</td>\n",
       "    </tr>\n",
       "    <tr>\n",
       "      <th>...</th>\n",
       "      <td>...</td>\n",
       "      <td>...</td>\n",
       "      <td>...</td>\n",
       "    </tr>\n",
       "    <tr>\n",
       "      <th>95</th>\n",
       "      <td>0.398221</td>\n",
       "      <td>0.209844</td>\n",
       "      <td>4.879017</td>\n",
       "    </tr>\n",
       "    <tr>\n",
       "      <th>96</th>\n",
       "      <td>0.186193</td>\n",
       "      <td>0.944372</td>\n",
       "      <td>2.610245</td>\n",
       "    </tr>\n",
       "    <tr>\n",
       "      <th>97</th>\n",
       "      <td>0.739551</td>\n",
       "      <td>0.490459</td>\n",
       "      <td>4.848061</td>\n",
       "    </tr>\n",
       "    <tr>\n",
       "      <th>98</th>\n",
       "      <td>0.227415</td>\n",
       "      <td>0.254356</td>\n",
       "      <td>5.037529</td>\n",
       "    </tr>\n",
       "    <tr>\n",
       "      <th>99</th>\n",
       "      <td>0.058029</td>\n",
       "      <td>0.434417</td>\n",
       "      <td>4.160183</td>\n",
       "    </tr>\n",
       "  </tbody>\n",
       "</table>\n",
       "<p>100 rows × 3 columns</p>\n",
       "</div>"
      ],
      "text/plain": [
       "    Feature_1  Feature_2    Target\n",
       "0    0.548814   0.715189  4.515377\n",
       "1    0.602763   0.544883  4.030911\n",
       "2    0.423655   0.645894  3.335893\n",
       "3    0.437587   0.891773  2.980945\n",
       "4    0.963663   0.383442  5.527985\n",
       "..        ...        ...       ...\n",
       "95   0.398221   0.209844  4.879017\n",
       "96   0.186193   0.944372  2.610245\n",
       "97   0.739551   0.490459  4.848061\n",
       "98   0.227415   0.254356  5.037529\n",
       "99   0.058029   0.434417  4.160183\n",
       "\n",
       "[100 rows x 3 columns]"
      ]
     },
     "execution_count": 2,
     "metadata": {},
     "output_type": "execute_result"
    }
   ],
   "source": [
    "np.random.seed(0)\n",
    "\n",
    "# Generate feature matrix X (100 samples, 2 features)\n",
    "X = np.random.rand(100, 2)\n",
    "\n",
    "# Define true coefficients for generating y\n",
    "true_beta = np.array([5, 2, -3])  # Intercept, beta_1, beta_2\n",
    "\n",
    "# Generate y with some added noise\n",
    "y = true_beta[0] + X @ true_beta[1:] + np.random.normal(0, 0.5, X.shape[0])\n",
    "\n",
    "# Combine X and y into a pandas DataFrame\n",
    "data = pd.DataFrame(np.column_stack((X, y)), columns=['Feature_1', 'Feature_2', 'Target'])\n",
    "data"
   ]
  },
  {
   "cell_type": "markdown",
   "metadata": {},
   "source": [
    "$$Target=5+2⋅Feature_1−3⋅Feature_2+noise$$"
   ]
  },
  {
   "cell_type": "markdown",
   "metadata": {},
   "source": [
    "2. Based on `data` table, separate X (features) and y (target) from the data. In other words, create a `100*2` numpy matrix for X and a numpy vector for y."
   ]
  },
  {
   "cell_type": "code",
   "execution_count": 4,
   "metadata": {},
   "outputs": [
    {
     "data": {
      "text/plain": [
       "(array([[0.5488135 , 0.71518937],\n",
       "        [0.60276338, 0.54488318],\n",
       "        [0.4236548 , 0.64589411],\n",
       "        [0.43758721, 0.891773  ],\n",
       "        [0.96366276, 0.38344152],\n",
       "        [0.79172504, 0.52889492],\n",
       "        [0.56804456, 0.92559664],\n",
       "        [0.07103606, 0.0871293 ],\n",
       "        [0.0202184 , 0.83261985],\n",
       "        [0.77815675, 0.87001215],\n",
       "        [0.97861834, 0.79915856],\n",
       "        [0.46147936, 0.78052918],\n",
       "        [0.11827443, 0.63992102],\n",
       "        [0.14335329, 0.94466892],\n",
       "        [0.52184832, 0.41466194],\n",
       "        [0.26455561, 0.77423369],\n",
       "        [0.45615033, 0.56843395],\n",
       "        [0.0187898 , 0.6176355 ],\n",
       "        [0.61209572, 0.616934  ],\n",
       "        [0.94374808, 0.6818203 ],\n",
       "        [0.3595079 , 0.43703195],\n",
       "        [0.6976312 , 0.06022547],\n",
       "        [0.66676672, 0.67063787],\n",
       "        [0.21038256, 0.1289263 ],\n",
       "        [0.31542835, 0.36371077],\n",
       "        [0.57019677, 0.43860151],\n",
       "        [0.98837384, 0.10204481],\n",
       "        [0.20887676, 0.16130952],\n",
       "        [0.65310833, 0.2532916 ],\n",
       "        [0.46631077, 0.24442559],\n",
       "        [0.15896958, 0.11037514],\n",
       "        [0.65632959, 0.13818295],\n",
       "        [0.19658236, 0.36872517],\n",
       "        [0.82099323, 0.09710128],\n",
       "        [0.83794491, 0.09609841],\n",
       "        [0.97645947, 0.4686512 ],\n",
       "        [0.97676109, 0.60484552],\n",
       "        [0.73926358, 0.03918779],\n",
       "        [0.28280696, 0.12019656],\n",
       "        [0.2961402 , 0.11872772],\n",
       "        [0.31798318, 0.41426299],\n",
       "        [0.0641475 , 0.69247212],\n",
       "        [0.56660145, 0.26538949],\n",
       "        [0.52324805, 0.09394051],\n",
       "        [0.5759465 , 0.9292962 ],\n",
       "        [0.31856895, 0.66741038],\n",
       "        [0.13179786, 0.7163272 ],\n",
       "        [0.28940609, 0.18319136],\n",
       "        [0.58651293, 0.02010755],\n",
       "        [0.82894003, 0.00469548],\n",
       "        [0.67781654, 0.27000797],\n",
       "        [0.73519402, 0.96218855],\n",
       "        [0.24875314, 0.57615733],\n",
       "        [0.59204193, 0.57225191],\n",
       "        [0.22308163, 0.95274901],\n",
       "        [0.44712538, 0.84640867],\n",
       "        [0.69947928, 0.29743695],\n",
       "        [0.81379782, 0.39650574],\n",
       "        [0.8811032 , 0.58127287],\n",
       "        [0.88173536, 0.69253159],\n",
       "        [0.72525428, 0.50132438],\n",
       "        [0.95608363, 0.6439902 ],\n",
       "        [0.42385505, 0.60639321],\n",
       "        [0.0191932 , 0.30157482],\n",
       "        [0.66017354, 0.29007761],\n",
       "        [0.61801543, 0.4287687 ],\n",
       "        [0.13547406, 0.29828233],\n",
       "        [0.56996491, 0.59087276],\n",
       "        [0.57432525, 0.65320082],\n",
       "        [0.65210327, 0.43141844],\n",
       "        [0.8965466 , 0.36756187],\n",
       "        [0.43586493, 0.89192336],\n",
       "        [0.80619399, 0.70388858],\n",
       "        [0.10022689, 0.91948261],\n",
       "        [0.7142413 , 0.99884701],\n",
       "        [0.1494483 , 0.86812606],\n",
       "        [0.16249293, 0.61555956],\n",
       "        [0.12381998, 0.84800823],\n",
       "        [0.80731896, 0.56910074],\n",
       "        [0.4071833 , 0.069167  ],\n",
       "        [0.69742877, 0.45354268],\n",
       "        [0.7220556 , 0.86638233],\n",
       "        [0.97552151, 0.85580334],\n",
       "        [0.01171408, 0.35997806],\n",
       "        [0.72999056, 0.17162968],\n",
       "        [0.52103661, 0.05433799],\n",
       "        [0.19999652, 0.01852179],\n",
       "        [0.7936977 , 0.22392469],\n",
       "        [0.34535168, 0.92808129],\n",
       "        [0.7044144 , 0.03183893],\n",
       "        [0.16469416, 0.6214784 ],\n",
       "        [0.57722859, 0.23789282],\n",
       "        [0.934214  , 0.61396596],\n",
       "        [0.5356328 , 0.58990998],\n",
       "        [0.73012203, 0.311945  ],\n",
       "        [0.39822106, 0.20984375],\n",
       "        [0.18619301, 0.94437239],\n",
       "        [0.7395508 , 0.49045881],\n",
       "        [0.22741463, 0.25435648],\n",
       "        [0.05802916, 0.43441663]]),\n",
       " array([4.51537687, 4.03091145, 3.33589293, 2.9809454 , 5.52798474,\n",
       "        5.96153134, 3.83400961, 4.92445984, 1.9298595 , 4.36845855,\n",
       "        4.05965332, 2.80898565, 3.91080068, 2.61117113, 5.26014024,\n",
       "        3.36577398, 4.63541412, 2.85916031, 3.85626803, 5.18283252,\n",
       "        4.00621511, 5.86981109, 4.09385357, 5.04272581, 4.36272743,\n",
       "        4.13711335, 6.34880404, 3.82212338, 5.85895757, 4.39831594,\n",
       "        4.43462207, 5.92419286, 3.91720771, 7.12218993, 5.74116614,\n",
       "        5.68049076, 5.11934421, 5.77691703, 5.46666257, 5.15032407,\n",
       "        4.77907265, 3.46263071, 6.41865241, 6.43293855, 3.17941348,\n",
       "        3.51521718, 3.66444391, 5.35686997, 6.43276899, 5.83531561,\n",
       "        5.53344609, 3.21480695, 3.90899658, 4.41825295, 3.04300568,\n",
       "        3.51363385, 5.89981168, 5.20486887, 4.54616465, 4.48085111,\n",
       "        4.93802521, 5.16977254, 5.15818493, 4.11253337, 4.97214175,\n",
       "        4.77673387, 4.14430316, 4.60805227, 3.41864953, 5.04158223,\n",
       "        5.76866085, 3.3120503 , 4.20206419, 2.32304507, 2.71991112,\n",
       "        2.4478585 , 3.20687644, 2.9116403 , 4.32924449, 5.99746466,\n",
       "        5.78147177, 2.80997171, 4.59676235, 4.28194799, 5.62637358,\n",
       "        5.68042334, 5.27798738, 5.7667259 , 2.751953  , 5.47531011,\n",
       "        4.04111889, 5.98058801, 4.619848  , 3.56832351, 5.78494151,\n",
       "        4.87901689, 2.61024542, 4.84806096, 5.03752919, 4.16018302]))"
      ]
     },
     "execution_count": 4,
     "metadata": {},
     "output_type": "execute_result"
    }
   ],
   "source": [
    "X = data[['Feature_1', 'Feature_2']].values\n",
    "y = data['Target'].values\n",
    "X, y "
   ]
  },
  {
   "cell_type": "markdown",
   "metadata": {},
   "source": [
    "3. Add a column of ones to X to account for the intercept term in the coefficient vector."
   ]
  },
  {
   "cell_type": "code",
   "execution_count": 6,
   "metadata": {},
   "outputs": [
    {
     "data": {
      "text/plain": [
       "array([[1.        , 0.5488135 , 0.71518937],\n",
       "       [1.        , 0.60276338, 0.54488318],\n",
       "       [1.        , 0.4236548 , 0.64589411],\n",
       "       [1.        , 0.43758721, 0.891773  ],\n",
       "       [1.        , 0.96366276, 0.38344152],\n",
       "       [1.        , 0.79172504, 0.52889492],\n",
       "       [1.        , 0.56804456, 0.92559664],\n",
       "       [1.        , 0.07103606, 0.0871293 ],\n",
       "       [1.        , 0.0202184 , 0.83261985],\n",
       "       [1.        , 0.77815675, 0.87001215],\n",
       "       [1.        , 0.97861834, 0.79915856],\n",
       "       [1.        , 0.46147936, 0.78052918],\n",
       "       [1.        , 0.11827443, 0.63992102],\n",
       "       [1.        , 0.14335329, 0.94466892],\n",
       "       [1.        , 0.52184832, 0.41466194],\n",
       "       [1.        , 0.26455561, 0.77423369],\n",
       "       [1.        , 0.45615033, 0.56843395],\n",
       "       [1.        , 0.0187898 , 0.6176355 ],\n",
       "       [1.        , 0.61209572, 0.616934  ],\n",
       "       [1.        , 0.94374808, 0.6818203 ],\n",
       "       [1.        , 0.3595079 , 0.43703195],\n",
       "       [1.        , 0.6976312 , 0.06022547],\n",
       "       [1.        , 0.66676672, 0.67063787],\n",
       "       [1.        , 0.21038256, 0.1289263 ],\n",
       "       [1.        , 0.31542835, 0.36371077],\n",
       "       [1.        , 0.57019677, 0.43860151],\n",
       "       [1.        , 0.98837384, 0.10204481],\n",
       "       [1.        , 0.20887676, 0.16130952],\n",
       "       [1.        , 0.65310833, 0.2532916 ],\n",
       "       [1.        , 0.46631077, 0.24442559],\n",
       "       [1.        , 0.15896958, 0.11037514],\n",
       "       [1.        , 0.65632959, 0.13818295],\n",
       "       [1.        , 0.19658236, 0.36872517],\n",
       "       [1.        , 0.82099323, 0.09710128],\n",
       "       [1.        , 0.83794491, 0.09609841],\n",
       "       [1.        , 0.97645947, 0.4686512 ],\n",
       "       [1.        , 0.97676109, 0.60484552],\n",
       "       [1.        , 0.73926358, 0.03918779],\n",
       "       [1.        , 0.28280696, 0.12019656],\n",
       "       [1.        , 0.2961402 , 0.11872772],\n",
       "       [1.        , 0.31798318, 0.41426299],\n",
       "       [1.        , 0.0641475 , 0.69247212],\n",
       "       [1.        , 0.56660145, 0.26538949],\n",
       "       [1.        , 0.52324805, 0.09394051],\n",
       "       [1.        , 0.5759465 , 0.9292962 ],\n",
       "       [1.        , 0.31856895, 0.66741038],\n",
       "       [1.        , 0.13179786, 0.7163272 ],\n",
       "       [1.        , 0.28940609, 0.18319136],\n",
       "       [1.        , 0.58651293, 0.02010755],\n",
       "       [1.        , 0.82894003, 0.00469548],\n",
       "       [1.        , 0.67781654, 0.27000797],\n",
       "       [1.        , 0.73519402, 0.96218855],\n",
       "       [1.        , 0.24875314, 0.57615733],\n",
       "       [1.        , 0.59204193, 0.57225191],\n",
       "       [1.        , 0.22308163, 0.95274901],\n",
       "       [1.        , 0.44712538, 0.84640867],\n",
       "       [1.        , 0.69947928, 0.29743695],\n",
       "       [1.        , 0.81379782, 0.39650574],\n",
       "       [1.        , 0.8811032 , 0.58127287],\n",
       "       [1.        , 0.88173536, 0.69253159],\n",
       "       [1.        , 0.72525428, 0.50132438],\n",
       "       [1.        , 0.95608363, 0.6439902 ],\n",
       "       [1.        , 0.42385505, 0.60639321],\n",
       "       [1.        , 0.0191932 , 0.30157482],\n",
       "       [1.        , 0.66017354, 0.29007761],\n",
       "       [1.        , 0.61801543, 0.4287687 ],\n",
       "       [1.        , 0.13547406, 0.29828233],\n",
       "       [1.        , 0.56996491, 0.59087276],\n",
       "       [1.        , 0.57432525, 0.65320082],\n",
       "       [1.        , 0.65210327, 0.43141844],\n",
       "       [1.        , 0.8965466 , 0.36756187],\n",
       "       [1.        , 0.43586493, 0.89192336],\n",
       "       [1.        , 0.80619399, 0.70388858],\n",
       "       [1.        , 0.10022689, 0.91948261],\n",
       "       [1.        , 0.7142413 , 0.99884701],\n",
       "       [1.        , 0.1494483 , 0.86812606],\n",
       "       [1.        , 0.16249293, 0.61555956],\n",
       "       [1.        , 0.12381998, 0.84800823],\n",
       "       [1.        , 0.80731896, 0.56910074],\n",
       "       [1.        , 0.4071833 , 0.069167  ],\n",
       "       [1.        , 0.69742877, 0.45354268],\n",
       "       [1.        , 0.7220556 , 0.86638233],\n",
       "       [1.        , 0.97552151, 0.85580334],\n",
       "       [1.        , 0.01171408, 0.35997806],\n",
       "       [1.        , 0.72999056, 0.17162968],\n",
       "       [1.        , 0.52103661, 0.05433799],\n",
       "       [1.        , 0.19999652, 0.01852179],\n",
       "       [1.        , 0.7936977 , 0.22392469],\n",
       "       [1.        , 0.34535168, 0.92808129],\n",
       "       [1.        , 0.7044144 , 0.03183893],\n",
       "       [1.        , 0.16469416, 0.6214784 ],\n",
       "       [1.        , 0.57722859, 0.23789282],\n",
       "       [1.        , 0.934214  , 0.61396596],\n",
       "       [1.        , 0.5356328 , 0.58990998],\n",
       "       [1.        , 0.73012203, 0.311945  ],\n",
       "       [1.        , 0.39822106, 0.20984375],\n",
       "       [1.        , 0.18619301, 0.94437239],\n",
       "       [1.        , 0.7395508 , 0.49045881],\n",
       "       [1.        , 0.22741463, 0.25435648],\n",
       "       [1.        , 0.05802916, 0.43441663]])"
      ]
     },
     "execution_count": 6,
     "metadata": {},
     "output_type": "execute_result"
    }
   ],
   "source": [
    "X_with_intercept = np.column_stack((np.ones(X.shape[0]), X))\n",
    "X_with_intercept\n"
   ]
  },
  {
   "cell_type": "markdown",
   "metadata": {},
   "source": [
    "4. Calculate the estimation of parameter $\\beta$ manually using NumPy's matrix operations.\n",
    "- Hint: You can refer to the lecture notes to find the closed-form solution for the regression coefficients\n",
    "- Hint: You can use `np.linalg.inv` to calculate the inverse of a matrix."
   ]
  },
  {
   "cell_type": "code",
   "execution_count": 7,
   "metadata": {},
   "outputs": [
    {
     "data": {
      "text/plain": [
       "array([ 5.05725163,  1.78685022, -2.98521247])"
      ]
     },
     "execution_count": 7,
     "metadata": {},
     "output_type": "execute_result"
    }
   ],
   "source": [
    "beta_manual = np.linalg.inv(X_with_intercept.T @ X_with_intercept) @ X_with_intercept.T @ y\n",
    "beta_manual"
   ]
  },
  {
   "cell_type": "markdown",
   "metadata": {},
   "source": [
    "5. Compute $R$ squared manually. You can refer to the lecture notes to see the definitino of R-squared."
   ]
  },
  {
   "cell_type": "code",
   "execution_count": 8,
   "metadata": {},
   "outputs": [
    {
     "data": {
      "text/plain": [
       "0.8308337212672313"
      ]
     },
     "execution_count": 8,
     "metadata": {},
     "output_type": "execute_result"
    }
   ],
   "source": [
    "y_pred = X_with_intercept @ beta_manual\n",
    "\n",
    "SS_res = np.sum((y - y_pred) ** 2)\n",
    "\n",
    "SS_tot = np.sum((y - y.mean()) ** 2)\n",
    "R_squared_manual = 1 - (SS_res / SS_tot)\n",
    "R_squared_manual\n"
   ]
  },
  {
   "cell_type": "markdown",
   "metadata": {},
   "source": [
    "6. **Comparison with statsmodels**\n",
    "\n",
    "We fit a linear regression model using `statsmodels`, then print and compare both the manually calculated coefficients and R-squared values with those from statsmodels. Are they the same?"
   ]
  },
  {
   "cell_type": "code",
   "execution_count": 9,
   "metadata": {},
   "outputs": [
    {
     "name": "stdout",
     "output_type": "stream",
     "text": [
      "Manual Coefficients: [ 5.05725163  1.78685022 -2.98521247]\n",
      "Statsmodels Coefficients: [ 5.05725163  1.78685022 -2.98521247]\n",
      "Manual R-squared: 0.8308337212672313\n",
      "Statsmodels R-squared: 0.8308337212672314\n"
     ]
    }
   ],
   "source": [
    "import statsmodels.api as sm\n",
    "\n",
    "X_sm = sm.add_constant(X)\n",
    "model = sm.OLS(y, X_sm).fit()\n",
    "\n",
    "beta_statsmodels = model.params\n",
    "R_squared_statsmodels = model.rsquared\n",
    "\n",
    "# Display the results\n",
    "print(\"Manual Coefficients:\", beta_manual)\n",
    "print(\"Statsmodels Coefficients:\", beta_statsmodels)\n",
    "print(\"Manual R-squared:\", R_squared_manual)\n",
    "print(\"Statsmodels R-squared:\", R_squared_statsmodels)\n"
   ]
  }
 ],
 "metadata": {
  "colab": {
   "provenance": []
  },
  "kernelspec": {
   "display_name": "Python 3",
   "language": "python",
   "name": "python3"
  },
  "language_info": {
   "codemirror_mode": {
    "name": "ipython",
    "version": 3
   },
   "file_extension": ".py",
   "mimetype": "text/x-python",
   "name": "python",
   "nbconvert_exporter": "python",
   "pygments_lexer": "ipython3",
   "version": "3.11.4"
  }
 },
 "nbformat": 4,
 "nbformat_minor": 4
}
