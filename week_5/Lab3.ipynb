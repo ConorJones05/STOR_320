{
 "cells": [
  {
   "cell_type": "markdown",
   "metadata": {},
   "source": [
    "# Lab 3\n",
    "\n",
    "Labs in general are for you to solve short programming challenges in class. In contrast, homework assignments will involve more challenging and lengthy problems.\n",
    "\n",
    "Feel free to ask the TAs for help if there is anything you do not understand. The TAs will go through suggested solutions in the last 15 minutes of the lab - typically by solving them in a live demo. \n",
    "\n",
    "\n",
    "Please remember to submit the lab on Gradescope. "
   ]
  },
  {
   "cell_type": "markdown",
   "metadata": {},
   "source": [
    "### A few points to review\n",
    "1. NumPy"
   ]
  },
  {
   "cell_type": "code",
   "execution_count": 27,
   "metadata": {},
   "outputs": [],
   "source": [
    "import numpy as np"
   ]
  },
  {
   "cell_type": "markdown",
   "metadata": {},
   "source": [
    "**1**. (1 point). Create two lists of 100 random integers in the `range[0, 1000]`. Find all numbers that are shared by the two lists."
   ]
  },
  {
   "cell_type": "code",
   "execution_count": 28,
   "metadata": {},
   "outputs": [
    {
     "data": {
      "text/plain": [
       "array([ 90, 232, 433, 245, 809, 831, 397, 486, 599, 485, 221, 888, 579,\n",
       "       681, 821,  59, 825, 602, 289, 280, 842, 920,  83, 379, 291, 183,\n",
       "       217,  12, 256, 515, 691, 410, 398, 678, 901, 594, 691,  42,  79,\n",
       "       984,  57, 164, 726, 719, 191, 421, 238, 588, 902, 789, 396, 736,\n",
       "       250, 431, 688, 158, 459, 585, 756,  41, 730,  86, 255, 334, 512,\n",
       "       533, 557, 696, 949, 593, 612, 260, 484, 872, 670, 629,  28, 451,\n",
       "       973, 798, 861, 621, 219, 478, 356, 302, 474, 811, 688, 668, 997,\n",
       "       585, 489, 265,  40, 174, 208, 732, 313, 176,  87, 157, 691, 746,\n",
       "       532,  88, 973, 802, 778,  77, 400, 649, 377, 530, 703, 957, 349,\n",
       "       253, 532, 405, 119, 410, 970, 624,   9, 957, 559, 888, 484, 276,\n",
       "       418, 402, 650, 871, 957, 800, 221, 680, 192, 212, 684, 516, 559,\n",
       "       263, 437, 254, 494, 306, 911, 115, 291, 932, 724,  24, 213, 680,\n",
       "       136, 155, 439, 518, 818, 887,  57, 227, 407, 475, 170, 574, 960,\n",
       "       987, 300, 147, 725, 936, 387, 692, 669, 596, 729, 366, 723,  90,\n",
       "       738, 357,  47, 634, 304, 286, 810, 682, 982,  60, 250, 927, 220,\n",
       "       702, 783, 728,  72, 481])"
      ]
     },
     "execution_count": 28,
     "metadata": {},
     "output_type": "execute_result"
    }
   ],
   "source": [
    "list1 = np.random.randint(0,1000,100)\n",
    "list2 = np.random.randint(0,1000,100)\n",
    "np.concatenate((list1,list2))"
   ]
  },
  {
   "cell_type": "markdown",
   "metadata": {},
   "source": [
    "**2**. (1.5 point). Given a NumPy array `data = np.random.randint(0, 100, size=(10, 10))`, perform the following tasks:\n",
    "\n",
    "- Create a boolean mask to filter out values greater than 50.\n",
    "- Use this mask to extract the filtered values.\n",
    "- Compute the mean of the filtered values."
   ]
  },
  {
   "cell_type": "code",
   "execution_count": 29,
   "metadata": {},
   "outputs": [
    {
     "data": {
      "text/plain": [
       "75.75675675675676"
      ]
     },
     "execution_count": 29,
     "metadata": {},
     "output_type": "execute_result"
    }
   ],
   "source": [
    "data = np.random.randint(0, 100, size=(10, 10))\n",
    "mask = data > 50\n",
    "filtered_values = data[mask]\n",
    "mean_filtered_values = np.mean(filtered_values)\n",
    "mean_filtered_values"
   ]
  },
  {
   "cell_type": "markdown",
   "metadata": {},
   "source": [
    "**3**. (3 points) Basic array manipulation. \n",
    "\n",
    "- Generate a random matrix with shape (4,5) with draws from a standard normal distribution\n",
    "- Find row sums\n",
    "- Scale so each row has min=0 and max=1 (for a challenge, do this in one line of code)\n",
    "- Find row sums when you exclude the max in each row"
   ]
  },
  {
   "cell_type": "code",
   "execution_count": 30,
   "metadata": {},
   "outputs": [
    {
     "data": {
      "text/plain": [
       "array([[-0.79479678, -1.89029784, -1.16929474,  0.78916651,  0.41017275],\n",
       "       [-0.49774475, -0.37878456,  1.50007747, -0.13061443,  0.79331147],\n",
       "       [-0.40376784,  0.6479263 , -0.36294123, -0.80559515,  0.59694752],\n",
       "       [ 0.00381692, -0.58829299,  0.5594056 ,  1.70214356, -0.37271725]])"
      ]
     },
     "execution_count": 30,
     "metadata": {},
     "output_type": "execute_result"
    }
   ],
   "source": [
    "normal_dist = np.random.normal(0, 1, size=(4, 5))\n",
    "normal_dist"
   ]
  },
  {
   "cell_type": "code",
   "execution_count": 31,
   "metadata": {},
   "outputs": [
    {
     "data": {
      "text/plain": [
       "array([-2.6550501 ,  1.28624521, -0.3274304 ,  1.30435583])"
      ]
     },
     "execution_count": 31,
     "metadata": {},
     "output_type": "execute_result"
    }
   ],
   "source": [
    "row_sums = np.sum(normal_dist, axis=1)\n",
    "row_sums"
   ]
  },
  {
   "cell_type": "code",
   "execution_count": 32,
   "metadata": {},
   "outputs": [
    {
     "data": {
      "text/plain": [
       "array([[0.40885077, 0.        , 0.26908479, 1.        , 0.85855615],\n",
       "       [0.        , 0.05954493, 1.        , 0.18376526, 0.64623178],\n",
       "       [0.2764509 , 1.        , 0.30453897, 0.        , 0.96492739],\n",
       "       [0.258514  , 0.        , 0.5010829 , 1.        , 0.09411994]])"
      ]
     },
     "execution_count": 32,
     "metadata": {},
     "output_type": "execute_result"
    }
   ],
   "source": [
    "scaled_normal_dist = (normal_dist - normal_dist.min(axis=1, keepdims=True)) / (normal_dist.max(axis=1, keepdims=True) - normal_dist.min(axis=1, keepdims=True))\n",
    "scaled_normal_dist"
   ]
  },
  {
   "cell_type": "code",
   "execution_count": 33,
   "metadata": {},
   "outputs": [
    {
     "data": {
      "text/plain": [
       "array([-2.46350829, -3.11045802, -2.45408274, -3.14628316])"
      ]
     },
     "execution_count": 33,
     "metadata": {},
     "output_type": "execute_result"
    }
   ],
   "source": [
    "row_sums_exc = np.sum(scaled_normal_dist - np.max(scaled_normal_dist, axis=1, keepdims=True), axis=1)\n",
    "row_sums_exc"
   ]
  },
  {
   "cell_type": "markdown",
   "metadata": {},
   "source": [
    "**4**. (2 points) Create two NumPy arrays: a 2D array `matrix = np.arange(1, 13).reshape(3, 4)` and a 1D array `vector = np.array([1, 2, 3, 4])`. Perform the following operations using broadcasting:\n",
    "\n",
    "- Add the vector to each row of the matrix.\n",
    "- Subtract the vector from each column of the matrix.\n",
    "- Multiply each element of the matrix by the vector element-wise.\n",
    "- Return the results of each operation."
   ]
  },
  {
   "cell_type": "code",
   "execution_count": 34,
   "metadata": {},
   "outputs": [],
   "source": [
    "matrix = np.arange(1, 13).reshape(3, 4)\n",
    "vector = np.array([1, 2, 3, 4])"
   ]
  },
  {
   "cell_type": "code",
   "execution_count": 35,
   "metadata": {},
   "outputs": [
    {
     "data": {
      "text/plain": [
       "array([[ 2,  4,  6,  8],\n",
       "       [ 6,  8, 10, 12],\n",
       "       [10, 12, 14, 16]])"
      ]
     },
     "execution_count": 35,
     "metadata": {},
     "output_type": "execute_result"
    }
   ],
   "source": [
    "result_add = matrix + vector\n",
    "result_add"
   ]
  },
  {
   "cell_type": "code",
   "execution_count": 36,
   "metadata": {},
   "outputs": [
    {
     "data": {
      "text/plain": [
       "array([[0, 0, 0, 0],\n",
       "       [4, 4, 4, 4],\n",
       "       [8, 8, 8, 8]])"
      ]
     },
     "execution_count": 36,
     "metadata": {},
     "output_type": "execute_result"
    }
   ],
   "source": [
    "result_subtract = matrix - vector\n",
    "result_subtract"
   ]
  },
  {
   "cell_type": "code",
   "execution_count": 37,
   "metadata": {},
   "outputs": [
    {
     "data": {
      "text/plain": [
       "array([[ 1,  4,  9, 16],\n",
       "       [ 5, 12, 21, 32],\n",
       "       [ 9, 20, 33, 48]])"
      ]
     },
     "execution_count": 37,
     "metadata": {},
     "output_type": "execute_result"
    }
   ],
   "source": [
    "result_multiply = matrix * vector\n",
    "result_multiply"
   ]
  },
  {
   "cell_type": "markdown",
   "metadata": {},
   "source": [
    "**5**. (0.5 points). You have two datasets `x = np.array([1, 2, 3, 4, 5])` and `y = np.array([2, 4, 6, 8, 10])`. Compute the Pearson correlation coefficient between `x` and `y`.\n",
    "\n",
    "Hint: use `np.corrcoef()`"
   ]
  },
  {
   "cell_type": "code",
   "execution_count": 38,
   "metadata": {},
   "outputs": [],
   "source": [
    "x = np.array([1, 2, 3, 4, 5])\n",
    "y = np.array([2, 4, 6, 8, 10])"
   ]
  },
  {
   "cell_type": "code",
   "execution_count": 39,
   "metadata": {},
   "outputs": [
    {
     "data": {
      "text/plain": [
       "0.9999999999999999"
      ]
     },
     "execution_count": 39,
     "metadata": {},
     "output_type": "execute_result"
    }
   ],
   "source": [
    "correlation_matrix = np.corrcoef(x,y)\n",
    "pearson_corr = correlation_matrix[0, 1]\n",
    "pearson_corr"
   ]
  },
  {
   "cell_type": "markdown",
   "metadata": {},
   "source": [
    "**6** (2 point). You are working with a dataset of daily sales figures for a retail store over a year. The dataset is represented as a 1D NumPy array `sales_data = [200, 220, 250, 275, 300, 320, 310, 290, 270, 260]`, where each element corresponds to the sales for one day. \n",
    "\n",
    "- Compute the cumulative sum of the sales data and print the total sales accumulated up to each day.\n",
    "\n",
    "- Determine the 25th, 50th, and 75th percentiles (quartiles) of the daily sales data.\n"
   ]
  },
  {
   "cell_type": "code",
   "execution_count": 40,
   "metadata": {},
   "outputs": [],
   "source": [
    "sales_data = [200, 220, 250, 275, 300, 320, 310, 290, 270, 260]\n",
    "sales_data = np.array(sales_data)\n"
   ]
  },
  {
   "cell_type": "code",
   "execution_count": 41,
   "metadata": {},
   "outputs": [
    {
     "data": {
      "text/plain": [
       "(array([ 200,  420,  670,  945, 1245, 1565, 1875, 2165, 2435, 2695]),\n",
       " array([252.5, 272.5, 297.5]))"
      ]
     },
     "execution_count": 41,
     "metadata": {},
     "output_type": "execute_result"
    }
   ],
   "source": [
    "cumulative_sales = np.cumsum(sales_data)\n",
    "quartiles = np.percentile(sales_data, [25, 50, 75])\n",
    "cumulative_sales, quartiles"
   ]
  }
 ],
 "metadata": {
  "kernelspec": {
   "display_name": "Python 3 (ipykernel)",
   "language": "python",
   "name": "python3"
  },
  "language_info": {
   "codemirror_mode": {
    "name": "ipython",
    "version": 3
   },
   "file_extension": ".py",
   "mimetype": "text/x-python",
   "name": "python",
   "nbconvert_exporter": "python",
   "pygments_lexer": "ipython3",
   "version": "3.11.4"
  }
 },
 "nbformat": 4,
 "nbformat_minor": 4
}
