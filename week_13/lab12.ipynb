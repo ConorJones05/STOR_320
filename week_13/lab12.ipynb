{
 "cells": [
  {
   "cell_type": "markdown",
   "metadata": {},
   "source": [
    "# STOR 320 Intro to Data Science\n",
    "\n",
    "## LAB 12 - CART"
   ]
  },
  {
   "cell_type": "code",
   "execution_count": 1,
   "metadata": {},
   "outputs": [],
   "source": [
    "import numpy as np\n",
    "import pandas as pd"
   ]
  },
  {
   "cell_type": "markdown",
   "metadata": {},
   "source": [
    "### Data Preprocessing from lecture"
   ]
  },
  {
   "cell_type": "code",
   "execution_count": 2,
   "metadata": {},
   "outputs": [],
   "source": [
    "parole = pd.read_csv(\"NYCparole.csv\")\n",
    "parole['Violator'] = parole['Violator'].astype('int64')\n",
    "parole_enc = pd.get_dummies(parole, columns = ['Class'])"
   ]
  },
  {
   "cell_type": "code",
   "execution_count": 3,
   "metadata": {},
   "outputs": [
    {
     "data": {
      "text/plain": [
       "((4271, 10), (1831, 10))"
      ]
     },
     "execution_count": 3,
     "metadata": {},
     "output_type": "execute_result"
    }
   ],
   "source": [
    "from sklearn.model_selection import train_test_split\n",
    "\n",
    "y = parole_enc['Violator']\n",
    "X = parole_enc.drop(['Violator'], axis=1)\n",
    "\n",
    "X_train, X_test, y_train, y_test = train_test_split(X, y, \n",
    "                                                    test_size=0.3,  \n",
    "                                                    stratify=parole_enc['Violator'],\n",
    "                                                    random_state=88,)\n",
    "X_train.shape, X_test.shape"
   ]
  },
  {
   "cell_type": "markdown",
   "metadata": {},
   "source": [
    "### Decision Tree Classifier\n",
    "\n",
    "`skelarn`'s `DecisionTreeClassifier` is just one of many implementations that we can use for our classification problem"
   ]
  },
  {
   "cell_type": "code",
   "execution_count": 4,
   "metadata": {},
   "outputs": [
    {
     "name": "stderr",
     "output_type": "stream",
     "text": [
      "c:\\Users\\conor\\AppData\\Local\\Programs\\Python\\Python311\\Lib\\site-packages\\matplotlib\\projections\\__init__.py:63: UserWarning: Unable to import Axes3D. This may be due to multiple versions of Matplotlib being installed (e.g. as a system package and as a pip package). As a result, the 3D projection is not available.\n",
      "  warnings.warn(\"Unable to import Axes3D. This may be due to multiple versions of \"\n"
     ]
    }
   ],
   "source": [
    "from sklearn.tree import DecisionTreeClassifier\n",
    "import matplotlib.pyplot as plt\n",
    "from sklearn.tree import plot_tree"
   ]
  },
  {
   "cell_type": "code",
   "execution_count": 5,
   "metadata": {},
   "outputs": [],
   "source": [
    "from sklearn.metrics import confusion_matrix\n",
    "from sklearn.metrics import precision_score\n",
    "from sklearn.metrics import recall_score "
   ]
  },
  {
   "cell_type": "markdown",
   "metadata": {},
   "source": [
    "### 1. Create a CART model to predict the column `violator`\n",
    "\n",
    "Set `ccp_alpha` as 0.003. \n",
    "\n",
    "Visualize the CART model using `plot_tree()`\n",
    "\n",
    "How many nodes are there in the tree? How many nodes have prediction being 1? "
   ]
  },
  {
   "cell_type": "code",
   "execution_count": null,
   "metadata": {},
   "outputs": [],
   "source": []
  },
  {
   "cell_type": "markdown",
   "metadata": {},
   "source": [
    "### 2. Create a CART model to predict the column `violator`\n",
    "\n",
    "Set `ccp_alpha` as 0.007. Set the ratio of the costs between `false positive` and `false negative` be `20: 1`.\n",
    "\n",
    "Visualize the CART model using `plot_tree()`\n",
    "\n",
    "How many nodes are there in the tree? How many nodes have prediction being 1?"
   ]
  },
  {
   "cell_type": "code",
   "execution_count": null,
   "metadata": {},
   "outputs": [],
   "source": []
  },
  {
   "cell_type": "markdown",
   "metadata": {},
   "source": [
    "### 3. Calculate the confusion matrix of the CART model in problem 2."
   ]
  },
  {
   "cell_type": "code",
   "execution_count": null,
   "metadata": {},
   "outputs": [],
   "source": []
  },
  {
   "cell_type": "markdown",
   "metadata": {},
   "source": [
    "### 4. CROSS-VALIDATION\n",
    "\n",
    "In Problem 2, setting `ccp_alpha` as 0.007 may not be the best choice. Use cross-validation to determine the best value of `ccp_alpha` within the interval `[0, 0.1]`. Use `accuracy` as the score to select the best value.\n",
    "\n",
    "- Visualize the accuracy as a function of `ccp_alpha`.\n",
    "\n",
    "- Visualize the CART model using the selected `ccp_alpha`. Calculate the confusion matrix."
   ]
  },
  {
   "cell_type": "code",
   "execution_count": null,
   "metadata": {},
   "outputs": [],
   "source": []
  },
  {
   "cell_type": "markdown",
   "metadata": {},
   "source": [
    "### 5. Select `ccp_alpha` based on Custom Loss Function"
   ]
  },
  {
   "cell_type": "code",
   "execution_count": 46,
   "metadata": {},
   "outputs": [],
   "source": [
    "def average_loss_function(y_test, y_pred):\n",
    "    \n",
    "    weights = np.array([20 if i == 1 else 1 for i in y_test])\n",
    "    \n",
    "    return np.mean(weights*(y_test != y_pred))"
   ]
  },
  {
   "cell_type": "markdown",
   "metadata": {},
   "source": [
    "- Is the above `ccp_alpha` the same as the misclassification rate? If not, what is the meaning of the above loss function?\n",
    "\n",
    "- Use the above loss function to select the best value of `ccp_alpha` for Problem 2.\n",
    "\n",
    "- Visualize the accuracy as a function of `ccp_alpha`.\n",
    "\n",
    "- Visualize the CART model using the selected `ccp_alpha`. Calculate the confusion matrix."
   ]
  },
  {
   "cell_type": "code",
   "execution_count": 1,
   "metadata": {},
   "outputs": [],
   "source": [
    "from sklearn.metrics import make_scorer          "
   ]
  },
  {
   "cell_type": "code",
   "execution_count": null,
   "metadata": {},
   "outputs": [],
   "source": []
  },
  {
   "cell_type": "code",
   "execution_count": null,
   "metadata": {},
   "outputs": [],
   "source": []
  }
 ],
 "metadata": {
  "hide_input": false,
  "kernelspec": {
   "display_name": "Python 3",
   "language": "python",
   "name": "python3"
  },
  "language_info": {
   "codemirror_mode": {
    "name": "ipython",
    "version": 3
   },
   "file_extension": ".py",
   "mimetype": "text/x-python",
   "name": "python",
   "nbconvert_exporter": "python",
   "pygments_lexer": "ipython3",
   "version": "3.11.4"
  }
 },
 "nbformat": 4,
 "nbformat_minor": 4
}
