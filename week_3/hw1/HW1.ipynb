{
 "cells": [
  {
   "cell_type": "markdown",
   "metadata": {},
   "source": [
    "# Homework 1\n",
    "\n",
    "Please submit the solution to gradescope by 11:59 PM, Sept 12, Thursday."
   ]
  },
  {
   "cell_type": "markdown",
   "metadata": {},
   "source": [
    "**Name**: Conor Jones\n",
    "\n",
    "**PID**: 730665579\n"
   ]
  },
  {
   "cell_type": "code",
   "execution_count": 9,
   "metadata": {},
   "outputs": [],
   "source": [
    "import string"
   ]
  },
  {
   "cell_type": "markdown",
   "metadata": {},
   "source": [
    "## Problem 1 (25 points). \n",
    "\n",
    "**1.1** (20 points) Load a text file `file.txt`, clean its content by \n",
    "\n",
    "\n",
    " - removing all punctuation\n",
    " - removing extra white spaces\n",
    " - transforming the text to lowercase.\n",
    "\n",
    "Print the cleaned text. \n",
    "\n",
    "**1.2** (5 points) Count and print the number of vowels present in the cleaned text\n",
    "\n",
    "   Example input: `s = \"hello world\"`\n",
    "\n",
    "   Example output: `a = 0, e = 1, i = 0, o = 2, u = 0`"
   ]
  },
  {
   "cell_type": "code",
   "execution_count": 15,
   "metadata": {},
   "outputs": [
    {
     "name": "stdout",
     "output_type": "stream",
     "text": [
      "development of basic skill set for data analysis in python from obtaining data to data carpentry exploration modeling and communication lectures cover topics such as python programming data cleaning and visualization predictive modeling and elements of machine learning the course will develop fluency in the python language and the standard scientific libraries such as numpy pandas matplotlib and scikitlearn programming analyses in more advanced areas of data science plan to come to every class with your computer and ready to work with others using resources around you is a key component of successful data analysis this includes the internet and people students may not receive credit for both stor 320 and stor 520\n"
     ]
    }
   ],
   "source": [
    "def clean_text(text):\n",
    "    text = text.translate(str.maketrans('', '', string.punctuation))\n",
    "    text = ' '.join(text.split())\n",
    "    text = text.lower()\n",
    "    return text\n",
    "\n",
    "with open('file.txt') as file:\n",
    "    original_text = file.read()\n",
    "\n",
    "cleaned_text = clean_text(original_text)\n",
    "\n",
    "print(cleaned_text)"
   ]
  },
  {
   "cell_type": "code",
   "execution_count": 21,
   "metadata": {},
   "outputs": [
    {
     "name": "stdout",
     "output_type": "stream",
     "text": [
      "a = 59, e = 58, i = 44, o = 46, u = 19\n"
     ]
    }
   ],
   "source": [
    "vowels = {\"a\": 0, \"e\": 0, \"i\": 0, \"o\": 0, \"u\": 0}\n",
    "\n",
    "for i in cleaned_text:\n",
    "    if i in vowels:\n",
    "        vowels[i] += 1\n",
    "\n",
    "print(f\"a = {vowels['a']}, e = {vowels['e']}, i = {vowels['i']}, o = {vowels['o']}, u = {vowels['u']}\")\n"
   ]
  },
  {
   "cell_type": "markdown",
   "metadata": {},
   "source": [
    "## Problem 2. (25 point). \n",
    "\n",
    "You are organizing information about several data science courses. Given the nested list of tuples `courses = [(101, 'Intro to Data Science'), (201, 'Machine Learning'), (103, 'Data Visualization'), (102, 'Python Programming')]`, perform the following tasks:\n",
    "\n",
    "**2.1** (5 points) Convert the list of tuples into a dictionary where the course number is the key and the course name is the value.\n",
    "\n",
    "**2.2** (5 points) Add a new course `(202, 'Deep Learning')` to the dictionary.\n",
    "\n",
    "**2.3** (5 points) Sort the dictionary based on the course number. \n",
    "\n",
    "**2.4** (5 points) Update the dictionary based on the following instruction: `Intro to Data Science` course is combined with `Python Programming` course, called `Intro to Data Science with Python` and the course number is still `101`. Delete the course `Python Programming`.\n",
    "\n",
    "**2.5** (5 points) Extract the course numbers and course names from the updated dictionary and store them in separate lists, e.g., `[101, 102, 103, 201, 202]`, `['Intro to Data Science with Python', 'Data Visualization',...]`\n",
    "\n",
    "\n"
   ]
  },
  {
   "cell_type": "code",
   "execution_count": 45,
   "metadata": {},
   "outputs": [
    {
     "data": {
      "text/plain": [
       "{101: 'Intro to Data Science',\n",
       " 201: 'Machine Learning',\n",
       " 103: 'Data Visualization',\n",
       " 102: 'Python Programming'}"
      ]
     },
     "execution_count": 45,
     "metadata": {},
     "output_type": "execute_result"
    }
   ],
   "source": [
    "courses = [(101, 'Intro to Data Science'), (201, 'Machine Learning'), (103, 'Data Visualization'), (102, 'Python Programming')]\n",
    "\n",
    "data_sci_dict = {}\n",
    "for i,j in courses:\n",
    "    data_sci_dict[i] = j\n",
    "\n",
    "data_sci_dict"
   ]
  },
  {
   "cell_type": "code",
   "execution_count": 42,
   "metadata": {},
   "outputs": [
    {
     "data": {
      "text/plain": [
       "{101: 'Intro to Data Science',\n",
       " 201: 'Machine Learning',\n",
       " 103: 'Data Visualization',\n",
       " 102: 'Python Programming',\n",
       " 202: 'Deep Learning'}"
      ]
     },
     "execution_count": 42,
     "metadata": {},
     "output_type": "execute_result"
    }
   ],
   "source": [
    "data_sci_dict[202] = 'Deep Learning'\n",
    "data_sci_dict"
   ]
  },
  {
   "cell_type": "code",
   "execution_count": 43,
   "metadata": {},
   "outputs": [
    {
     "data": {
      "text/plain": [
       "{101: 'Intro to Data Science',\n",
       " 102: 'Python Programming',\n",
       " 103: 'Data Visualization',\n",
       " 201: 'Machine Learning',\n",
       " 202: 'Deep Learning'}"
      ]
     },
     "execution_count": 43,
     "metadata": {},
     "output_type": "execute_result"
    }
   ],
   "source": [
    "keys = list(data_sci_dict.keys())\n",
    "keys.sort()\n",
    "data_sci_dict = {i: data_sci_dict[i] for i in keys}\n",
    "data_sci_dict"
   ]
  },
  {
   "cell_type": "code",
   "execution_count": 44,
   "metadata": {},
   "outputs": [
    {
     "data": {
      "text/plain": [
       "{101: 'Intro to Data Science with Python',\n",
       " 201: 'Machine Learning',\n",
       " 103: 'Data Visualization',\n",
       " 202: 'Deep Learning'}"
      ]
     },
     "execution_count": 44,
     "metadata": {},
     "output_type": "execute_result"
    }
   ],
   "source": [
    "data_sci_dict[101] = \"Intro to Data Science with Python\"\n",
    "data_sci_dict.pop(102)\n",
    "data_sci_dict"
   ]
  },
  {
   "cell_type": "code",
   "execution_count": 50,
   "metadata": {},
   "outputs": [
    {
     "name": "stdout",
     "output_type": "stream",
     "text": [
      "[101, 201, 103, 102]\n",
      "['Intro to Data Science', 'Machine Learning', 'Data Visualization', 'Python Programming']\n"
     ]
    }
   ],
   "source": [
    "keys_array = []\n",
    "values_array = []\n",
    "\n",
    "for key, value in data_sci_dict.items():\n",
    "    keys_array.append(key)\n",
    "    values_array.append(value)\n",
    "\n",
    "print(keys_array)\n",
    "print(values_array)"
   ]
  },
  {
   "cell_type": "markdown",
   "metadata": {},
   "source": [
    "## Problem 3 (25 points). \n",
    "\n",
    "You have two lists of student IDs enrolled in two different data science courses: `course1_ids = [101, 102, 102, 103, 104]` and `course2_ids = [103, 104, 104, 105, 106]`. Perform the following tasks:\n",
    "\n",
    "**3.1** (5 points) Convert the lists to sets to remove duplicate IDs.\n",
    "\n",
    "**3.2** (10 points) Find the union and intersection of the two sets to determine which students are in either or both courses.\n",
    "\n",
    "**3.3** (5 points) Convert the union and intersection sets to sorted lists.\n",
    "\n",
    "**3.4** (5 points) Create a dictionary where the keys are the student IDs from the union list and the values are True if the student is in both courses, otherwise False."
   ]
  },
  {
   "cell_type": "code",
   "execution_count": 53,
   "metadata": {},
   "outputs": [],
   "source": [
    "course1_ids = [101, 102, 102, 103, 104] \n",
    "course2_ids = [103, 104, 104, 105, 106]"
   ]
  },
  {
   "cell_type": "code",
   "execution_count": 56,
   "metadata": {},
   "outputs": [
    {
     "data": {
      "text/plain": [
       "({101, 102, 103, 104}, {103, 104, 105, 106})"
      ]
     },
     "execution_count": 56,
     "metadata": {},
     "output_type": "execute_result"
    }
   ],
   "source": [
    "course1_ids = set(course1_ids)\n",
    "course2_ids = set(course2_ids)\n",
    "course1_ids, course2_ids"
   ]
  },
  {
   "cell_type": "code",
   "execution_count": 61,
   "metadata": {},
   "outputs": [
    {
     "data": {
      "text/plain": [
       "({101, 102, 103, 104, 105, 106}, {103, 104})"
      ]
     },
     "execution_count": 61,
     "metadata": {},
     "output_type": "execute_result"
    }
   ],
   "source": [
    "union_ids = course1_ids.union(course2_ids)\n",
    "intersection_ids = course1_ids.intersection(course2_ids)\n",
    "union_ids, intersection_ids\n"
   ]
  },
  {
   "cell_type": "code",
   "execution_count": 63,
   "metadata": {},
   "outputs": [
    {
     "data": {
      "text/plain": [
       "([101, 102, 103, 104, 105, 106], [103, 104])"
      ]
     },
     "execution_count": 63,
     "metadata": {},
     "output_type": "execute_result"
    }
   ],
   "source": [
    "sorted_union_ids = sorted(union_ids)\n",
    "sorted_intersection_ids = sorted(intersection_ids)\n",
    "sorted_union_ids, sorted_intersection_ids"
   ]
  },
  {
   "cell_type": "code",
   "execution_count": 65,
   "metadata": {},
   "outputs": [
    {
     "data": {
      "text/plain": [
       "{101: False, 102: False, 103: True, 104: True, 105: False, 106: False}"
      ]
     },
     "execution_count": 65,
     "metadata": {},
     "output_type": "execute_result"
    }
   ],
   "source": [
    "both_classes = {}\n",
    "for i in sorted_union_ids:\n",
    "    if i in sorted_intersection_ids:\n",
    "        both_classes[i] = True\n",
    "    else:\n",
    "        both_classes[i] = False\n",
    "\n",
    "both_classes"
   ]
  },
  {
   "cell_type": "markdown",
   "metadata": {},
   "source": [
    "# Problem 4 (25 points)\n",
    "\n",
    "**4.1** (5 points) Install a package `sympy`. The `sympy` library is a Python library for symbolic mathematics. You do not have to install this library again if it is already installed. \n",
    "\n",
    "**4.2** (10 points) `isprime` function in `sympy` checks if a number is a prime number. For example, `isprime(7)` returns `True`. Based on this function, define a function to find the closest prime number of an integer. For example, if the input is 8, the function should return 7, as it is the closest prime number.\n",
    "\n",
    "\n",
    "\n",
    "**4.3** (5 points) Treat your PID number at UNC as an integer, and print its closest prime number.\n",
    "\n",
    "**4.4** (5 points) Given this sequence `[456,983,482,963,749,12,97]`, create a new list where each element is replaced by the closest prime number to that element, using the function defined in **4.2**.\n",
    "\n"
   ]
  },
  {
   "cell_type": "code",
   "execution_count": 67,
   "metadata": {},
   "outputs": [],
   "source": [
    "from sympy import isprime\n",
    "\n",
    "def closest_prime(n):\n",
    "    lower = n\n",
    "    while lower > 1 and not isprime(lower):\n",
    "        lower -= 1\n",
    "    higher = n\n",
    "    while not isprime(higher):\n",
    "        higher += 1\n",
    "    if abs(n - lower) <= abs(n - higher):\n",
    "        return lower\n",
    "    else:\n",
    "        return higher"
   ]
  },
  {
   "cell_type": "code",
   "execution_count": 68,
   "metadata": {},
   "outputs": [
    {
     "name": "stdout",
     "output_type": "stream",
     "text": [
      "730665583\n"
     ]
    }
   ],
   "source": [
    "pid = 730665579\n",
    "\n",
    "print(closest_prime(pid))"
   ]
  },
  {
   "cell_type": "code",
   "execution_count": 71,
   "metadata": {},
   "outputs": [
    {
     "data": {
      "text/plain": [
       "[457, 983, 479, 967, 751, 11, 97]"
      ]
     },
     "execution_count": 71,
     "metadata": {},
     "output_type": "execute_result"
    }
   ],
   "source": [
    "sequence = [456,983,482,963,749,12,97]\n",
    "\n",
    "for index in range(len(sequence)):\n",
    "    sequence[index] = closest_prime(sequence[index])\n",
    "\n",
    "sequence"
   ]
  }
 ],
 "metadata": {
  "kernelspec": {
   "display_name": "Python 3 (ipykernel)",
   "language": "python",
   "name": "python3"
  },
  "language_info": {
   "codemirror_mode": {
    "name": "ipython",
    "version": 3
   },
   "file_extension": ".py",
   "mimetype": "text/x-python",
   "name": "python",
   "nbconvert_exporter": "python",
   "pygments_lexer": "ipython3",
   "version": "3.11.4"
  }
 },
 "nbformat": 4,
 "nbformat_minor": 4
}
