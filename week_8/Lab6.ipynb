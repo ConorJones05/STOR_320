{
 "cells": [
  {
   "cell_type": "markdown",
   "metadata": {
    "id": "Gw5o-c0odkX0"
   },
   "source": [
    "\n",
    "# STOR 320: Introduction to Data Science\n",
    "## Lab 6\n",
    "\n",
    "**Name: Conor Jones**\n",
    "\n",
    "**PID: 730665579**"
   ]
  },
  {
   "cell_type": "code",
   "execution_count": 2,
   "metadata": {
    "id": "O1NhFft9e6oF"
   },
   "outputs": [],
   "source": [
    "from datetime import datetime\n",
    "from bs4 import BeautifulSoup\n",
    "from io import StringIO\n",
    "import numpy as np\n",
    "import pandas as pd\n",
    "import matplotlib.pyplot as plt\n",
    "import seaborn as sns\n",
    "import requests"
   ]
  },
  {
   "cell_type": "code",
   "execution_count": 94,
   "metadata": {},
   "outputs": [
    {
     "name": "stdout",
     "output_type": "stream",
     "text": [
      "Requirement already satisfied: html5lib in c:\\users\\conor\\appdata\\local\\programs\\python\\python311\\lib\\site-packages (1.1)\n",
      "Requirement already satisfied: six>=1.9 in c:\\users\\conor\\appdata\\roaming\\python\\python311\\site-packages (from html5lib) (1.16.0)\n",
      "Requirement already satisfied: webencodings in c:\\users\\conor\\appdata\\roaming\\python\\python311\\site-packages (from html5lib) (0.5.1)\n",
      "Note: you may need to restart the kernel to use updated packages.\n"
     ]
    },
    {
     "name": "stderr",
     "output_type": "stream",
     "text": [
      "WARNING: Ignoring invalid distribution ~lotly (c:\\Users\\conor\\AppData\\Local\\Programs\\Python\\Python311\\Lib\\site-packages)\n",
      "WARNING: Ignoring invalid distribution ~lotly (c:\\Users\\conor\\AppData\\Local\\Programs\\Python\\Python311\\Lib\\site-packages)\n",
      "WARNING: Ignoring invalid distribution ~lotly (c:\\Users\\conor\\AppData\\Local\\Programs\\Python\\Python311\\Lib\\site-packages)\n"
     ]
    }
   ],
   "source": [
    "%pip install html5lib"
   ]
  },
  {
   "cell_type": "markdown",
   "metadata": {
    "id": "BtnORIYQ82OD"
   },
   "source": [
    "# Scraping, Merging, and Analyzing Datasets for Countries (25 points)\n",
    "\n",
    "**Background:** Many times in data science, your data will be split between many different sources, some of which may be online. In this analysis assignment, we will webscrape country level data from multiple websites, clean the data individually, and merge the data. The website [Worldometers](https://www.worldometers.info/) contains very interesting country level data that when connected may allow us to learn interesting things about the wonderful world in which we exist."
   ]
  },
  {
   "cell_type": "markdown",
   "metadata": {
    "id": "DFCyg5sU9nVg"
   },
   "source": [
    "## 0. GDP by Country (7 Points)\n",
    "Information at [Worldometer GDP](https://www.worldometers.info/gdp/gdp-by-country/) contains GDP data from 2022 published by the world bank. GDP is the monetary value of goods and services produced within a country over a period of time. On this website, GDP is presented in dollars."
   ]
  },
  {
   "cell_type": "markdown",
   "metadata": {
    "id": "nz13huHt-Tfg"
   },
   "source": [
    "### 0.0 Scraping the Data\n",
    "We will walk through webscraping the data from https://www.worldometers.info/gdp/gdp-by-country/ using Pandas into a DataFrame called GDP. You should end up with a new object called GDP which is a DataFrame with 177 observations and 8 variables."
   ]
  },
  {
   "cell_type": "code",
   "execution_count": 24,
   "metadata": {
    "id": "BpSRit839m0N"
   },
   "outputs": [
    {
     "data": {
      "text/plain": [
       "(177, 8)"
      ]
     },
     "execution_count": 24,
     "metadata": {},
     "output_type": "execute_result"
    }
   ],
   "source": [
    "URL_GDP = \"https://www.worldometers.info/gdp/gdp-by-country/\"\n",
    "\n",
    "# Send a GET request to the URL\n",
    "response = requests.get(URL_GDP)\n",
    "\n",
    "# Parse the HTML content\n",
    "soup = BeautifulSoup(response.content, 'html.parser')\n",
    "\n",
    "# Find all tables and read into pandas DataFrame\n",
    "tables = soup.find_all('table')\n",
    "\n",
    "table_IO = StringIO(str(tables))\n",
    "GDP = pd.read_html(table_IO, flavor='bs4', header=0)[0]  # Read the first table\n",
    "\n",
    "GDP.shape"
   ]
  },
  {
   "cell_type": "code",
   "execution_count": 4,
   "metadata": {
    "id": "IrAKzK_E-63o"
   },
   "outputs": [
    {
     "data": {
      "text/html": [
       "<div>\n",
       "<style scoped>\n",
       "    .dataframe tbody tr th:only-of-type {\n",
       "        vertical-align: middle;\n",
       "    }\n",
       "\n",
       "    .dataframe tbody tr th {\n",
       "        vertical-align: top;\n",
       "    }\n",
       "\n",
       "    .dataframe thead th {\n",
       "        text-align: right;\n",
       "    }\n",
       "</style>\n",
       "<table border=\"1\" class=\"dataframe\">\n",
       "  <thead>\n",
       "    <tr style=\"text-align: right;\">\n",
       "      <th></th>\n",
       "      <th>#</th>\n",
       "      <th>Country</th>\n",
       "      <th>GDP  (nominal, 2022)</th>\n",
       "      <th>GDP  (abbrev.)</th>\n",
       "      <th>GDP growth</th>\n",
       "      <th>Population  (2022)</th>\n",
       "      <th>GDP per capita</th>\n",
       "      <th>Share of  World GDP</th>\n",
       "    </tr>\n",
       "  </thead>\n",
       "  <tbody>\n",
       "    <tr>\n",
       "      <th>0</th>\n",
       "      <td>1</td>\n",
       "      <td>United States</td>\n",
       "      <td>$25,462,700,000,000</td>\n",
       "      <td>$25.463 trillion</td>\n",
       "      <td>2.06%</td>\n",
       "      <td>341534046</td>\n",
       "      <td>$74,554</td>\n",
       "      <td>25.32%</td>\n",
       "    </tr>\n",
       "    <tr>\n",
       "      <th>1</th>\n",
       "      <td>2</td>\n",
       "      <td>China</td>\n",
       "      <td>$17,963,200,000,000</td>\n",
       "      <td>$17.963 trillion</td>\n",
       "      <td>2.99%</td>\n",
       "      <td>1425179569</td>\n",
       "      <td>$12,604</td>\n",
       "      <td>17.86%</td>\n",
       "    </tr>\n",
       "    <tr>\n",
       "      <th>2</th>\n",
       "      <td>3</td>\n",
       "      <td>Japan</td>\n",
       "      <td>$4,231,140,000,000</td>\n",
       "      <td>$4.231 trillion</td>\n",
       "      <td>1.03%</td>\n",
       "      <td>124997578</td>\n",
       "      <td>$33,850</td>\n",
       "      <td>4.21%</td>\n",
       "    </tr>\n",
       "    <tr>\n",
       "      <th>3</th>\n",
       "      <td>4</td>\n",
       "      <td>Germany</td>\n",
       "      <td>$4,072,190,000,000</td>\n",
       "      <td>$4.072 trillion</td>\n",
       "      <td>1.79%</td>\n",
       "      <td>84086227</td>\n",
       "      <td>$48,429</td>\n",
       "      <td>4.05%</td>\n",
       "    </tr>\n",
       "    <tr>\n",
       "      <th>4</th>\n",
       "      <td>5</td>\n",
       "      <td>India</td>\n",
       "      <td>$3,385,090,000,000</td>\n",
       "      <td>$3.385 trillion</td>\n",
       "      <td>7.00%</td>\n",
       "      <td>1425423212</td>\n",
       "      <td>$2,375</td>\n",
       "      <td>3.37%</td>\n",
       "    </tr>\n",
       "  </tbody>\n",
       "</table>\n",
       "</div>"
      ],
      "text/plain": [
       "   #        Country GDP  (nominal, 2022)    GDP  (abbrev.) GDP growth  \\\n",
       "0  1  United States  $25,462,700,000,000  $25.463 trillion      2.06%   \n",
       "1  2          China  $17,963,200,000,000  $17.963 trillion      2.99%   \n",
       "2  3          Japan   $4,231,140,000,000   $4.231 trillion      1.03%   \n",
       "3  4        Germany   $4,072,190,000,000   $4.072 trillion      1.79%   \n",
       "4  5          India   $3,385,090,000,000   $3.385 trillion      7.00%   \n",
       "\n",
       "   Population  (2022) GDP per capita Share of  World GDP  \n",
       "0           341534046        $74,554              25.32%  \n",
       "1          1425179569        $12,604              17.86%  \n",
       "2           124997578        $33,850               4.21%  \n",
       "3            84086227        $48,429               4.05%  \n",
       "4          1425423212         $2,375               3.37%  "
      ]
     },
     "execution_count": 4,
     "metadata": {},
     "output_type": "execute_result"
    }
   ],
   "source": [
    "GDP.head(5)"
   ]
  },
  {
   "cell_type": "markdown",
   "metadata": {
    "id": "t3aHYGDo-_R2"
   },
   "source": [
    "### 0.1 Cleaning the Data (7 points)\n",
    "\n",
    "Now that we scraped our data into a DataFrame, we need to clean it up. Perform the following tasks:\n",
    "\n",
    "1.   Remove the first ('#') and fourth ('GDP (abbrev.)') columns from the DataFrame.\n",
    "2.   Rename the columns 'GDP  (nominal, 2022)', 'GDP growth', 'Population  (2022)', 'GDP per capita', and 'Share of  World GDP' to 'GDP', 'Growth', 'Population', 'PerCapita', and 'Share', respectively.\n",
    "3.   Remove all dollar signs, percent signs, and commas from 'GDP', 'Growth', 'PerCapita', and 'Share'.\n",
    "4.  Update column data type of \"Country\" to be a string dtype and the remaining columns to be numeric. Hint: use `pd.to_numeric`\n",
    "5. Rewrite over the original 'GDP' variable with a new variable called 'GDP' that is in trillions of dollars rather than in actual dollars. Rewrite over the original 'Population' variable with a new variable of the same name that is in millions of people rather than in actual people. You are scaling the original variables to change the units without changing the variable names.\n",
    "\n",
    "Be careful of the formatting and spacing in the original column names! Display the first five rows of the cleaned `GDP` DataFrame and the dtype info for `GDP`.\n",
    "\n"
   ]
  },
  {
   "cell_type": "code",
   "execution_count": 25,
   "metadata": {
    "id": "dKXshhbe_1V2"
   },
   "outputs": [],
   "source": [
    "# Remove the first ('#') and fourth ('GDP (abbrev.)') columns from the DataFrame.\n",
    "GDP.drop(['#', 'GDP  (abbrev.)'], axis=1, inplace=True)"
   ]
  },
  {
   "cell_type": "code",
   "execution_count": 26,
   "metadata": {},
   "outputs": [],
   "source": [
    "# Rename the columns 'GDP  (nominal, 2022)', 'GDP growth', 'Population  (2022)', 'GDP per capita', \n",
    "# and 'Share of  World GDP' to 'GDP', 'Growth', 'Population', 'PerCapita', and 'Share', respectively.\n",
    "GDP.columns = ['Country', 'GDP', 'Growth', 'Population', 'PerCapita', 'Share']\n"
   ]
  },
  {
   "cell_type": "code",
   "execution_count": 27,
   "metadata": {},
   "outputs": [],
   "source": [
    "#Remove all dollar signs, percent signs, and commas from 'GDP', 'Growth', 'PerCapita', and 'Share'.\n",
    "GDP['GDP'] = GDP['GDP'].str.replace('[^0-9]', '', regex=True)\n",
    "GDP['Growth'] = GDP['Growth'].str.replace('[^0-9]', '', regex=True)\n",
    "GDP['PerCapita'] = GDP['PerCapita'].str.replace('[^0-9]', '', regex=True)\n",
    "GDP['Share'] = GDP['Share'].str.replace('[^0-9]', '', regex=True)"
   ]
  },
  {
   "cell_type": "code",
   "execution_count": 28,
   "metadata": {},
   "outputs": [],
   "source": [
    "# Update column data type of \"Country\" to be a string dtype and the remaining columns to be numeric. Hint: use `pd.to_numeric`\n",
    "GDP[\"Country\"] = GDP[\"Country\"].astype(str)\n",
    "GDP['GDP'] = pd.to_numeric(GDP['GDP'])\n",
    "GDP['Growth'] = pd.to_numeric(GDP['Growth'])\n",
    "GDP['Population'] = pd.to_numeric(GDP['Population'])\n",
    "GDP['PerCapita'] = pd.to_numeric(GDP['PerCapita'])\n",
    "GDP['Share'] = pd.to_numeric(GDP['Share'])"
   ]
  },
  {
   "cell_type": "code",
   "execution_count": 29,
   "metadata": {},
   "outputs": [],
   "source": [
    "#Rewrite over the original 'GDP' variable with a new variable called 'GDP' that is in trillions of dollars rather than\n",
    "#in actual dollars. Rewrite over the original 'Population' variable with a new variable of the same name that is in millions \n",
    "# of people rather than in actual people. You are scaling the original variables to change the units without changing the variable names.\n",
    "\n",
    "GDP['GDP'] = GDP['GDP']/1_000_000_000_000\n",
    "GDP['Population'] = GDP['Population']/1_000_000"
   ]
  },
  {
   "cell_type": "code",
   "execution_count": 30,
   "metadata": {},
   "outputs": [
    {
     "data": {
      "text/html": [
       "<div>\n",
       "<style scoped>\n",
       "    .dataframe tbody tr th:only-of-type {\n",
       "        vertical-align: middle;\n",
       "    }\n",
       "\n",
       "    .dataframe tbody tr th {\n",
       "        vertical-align: top;\n",
       "    }\n",
       "\n",
       "    .dataframe thead th {\n",
       "        text-align: right;\n",
       "    }\n",
       "</style>\n",
       "<table border=\"1\" class=\"dataframe\">\n",
       "  <thead>\n",
       "    <tr style=\"text-align: right;\">\n",
       "      <th></th>\n",
       "      <th>Country</th>\n",
       "      <th>GDP</th>\n",
       "      <th>Growth</th>\n",
       "      <th>Population</th>\n",
       "      <th>PerCapita</th>\n",
       "      <th>Share</th>\n",
       "    </tr>\n",
       "  </thead>\n",
       "  <tbody>\n",
       "    <tr>\n",
       "      <th>0</th>\n",
       "      <td>United States</td>\n",
       "      <td>25.46270</td>\n",
       "      <td>206</td>\n",
       "      <td>341.534046</td>\n",
       "      <td>74554</td>\n",
       "      <td>2532</td>\n",
       "    </tr>\n",
       "    <tr>\n",
       "      <th>1</th>\n",
       "      <td>China</td>\n",
       "      <td>17.96320</td>\n",
       "      <td>299</td>\n",
       "      <td>1425.179569</td>\n",
       "      <td>12604</td>\n",
       "      <td>1786</td>\n",
       "    </tr>\n",
       "    <tr>\n",
       "      <th>2</th>\n",
       "      <td>Japan</td>\n",
       "      <td>4.23114</td>\n",
       "      <td>103</td>\n",
       "      <td>124.997578</td>\n",
       "      <td>33850</td>\n",
       "      <td>421</td>\n",
       "    </tr>\n",
       "    <tr>\n",
       "      <th>3</th>\n",
       "      <td>Germany</td>\n",
       "      <td>4.07219</td>\n",
       "      <td>179</td>\n",
       "      <td>84.086227</td>\n",
       "      <td>48429</td>\n",
       "      <td>405</td>\n",
       "    </tr>\n",
       "    <tr>\n",
       "      <th>4</th>\n",
       "      <td>India</td>\n",
       "      <td>3.38509</td>\n",
       "      <td>700</td>\n",
       "      <td>1425.423212</td>\n",
       "      <td>2375</td>\n",
       "      <td>337</td>\n",
       "    </tr>\n",
       "  </tbody>\n",
       "</table>\n",
       "</div>"
      ],
      "text/plain": [
       "         Country       GDP  Growth   Population  PerCapita  Share\n",
       "0  United States  25.46270     206   341.534046      74554   2532\n",
       "1          China  17.96320     299  1425.179569      12604   1786\n",
       "2          Japan   4.23114     103   124.997578      33850    421\n",
       "3        Germany   4.07219     179    84.086227      48429    405\n",
       "4          India   3.38509     700  1425.423212       2375    337"
      ]
     },
     "execution_count": 30,
     "metadata": {},
     "output_type": "execute_result"
    }
   ],
   "source": [
    "GDP.head()"
   ]
  },
  {
   "cell_type": "markdown",
   "metadata": {
    "id": "4ExGvJDzEgvS"
   },
   "source": [
    "## 1. Education Index Data by Country (3 Points)\n",
    "\n",
    "Check out the [Wikipedia page](https://en.wikipedia.org/wiki/Education_Index), which contains the education index for all countries from 1990 to 2019."
   ]
  },
  {
   "cell_type": "markdown",
   "metadata": {
    "id": "uCcsppANFQdu"
   },
   "source": [
    "### 1.0 Scraping the Education Index Data\n",
    "The code provided scrapes the data from (https://en.wikipedia.org/wiki/Education_Index) into a data frame called EDU."
   ]
  },
  {
   "cell_type": "code",
   "execution_count": 11,
   "metadata": {
    "id": "CVtAj-JDEwZw"
   },
   "outputs": [
    {
     "data": {
      "text/html": [
       "<div>\n",
       "<style scoped>\n",
       "    .dataframe tbody tr th:only-of-type {\n",
       "        vertical-align: middle;\n",
       "    }\n",
       "\n",
       "    .dataframe tbody tr th {\n",
       "        vertical-align: top;\n",
       "    }\n",
       "\n",
       "    .dataframe thead th {\n",
       "        text-align: right;\n",
       "    }\n",
       "</style>\n",
       "<table border=\"1\" class=\"dataframe\">\n",
       "  <thead>\n",
       "    <tr style=\"text-align: right;\">\n",
       "      <th></th>\n",
       "      <th>Country</th>\n",
       "      <th>1990</th>\n",
       "      <th>1991</th>\n",
       "      <th>1992</th>\n",
       "      <th>1993</th>\n",
       "      <th>1994</th>\n",
       "      <th>1995</th>\n",
       "      <th>1996</th>\n",
       "      <th>1997</th>\n",
       "      <th>1998</th>\n",
       "      <th>...</th>\n",
       "      <th>2010</th>\n",
       "      <th>2011</th>\n",
       "      <th>2012</th>\n",
       "      <th>2013</th>\n",
       "      <th>2014</th>\n",
       "      <th>2015</th>\n",
       "      <th>2016</th>\n",
       "      <th>2017</th>\n",
       "      <th>2018</th>\n",
       "      <th>2019</th>\n",
       "    </tr>\n",
       "  </thead>\n",
       "  <tbody>\n",
       "    <tr>\n",
       "      <th>0</th>\n",
       "      <td>Afghanistan</td>\n",
       "      <td>0.122</td>\n",
       "      <td>0.133</td>\n",
       "      <td>0.145</td>\n",
       "      <td>0.156</td>\n",
       "      <td>0.168</td>\n",
       "      <td>0.179</td>\n",
       "      <td>0.190</td>\n",
       "      <td>0.202</td>\n",
       "      <td>0.213</td>\n",
       "      <td>...</td>\n",
       "      <td>0.372</td>\n",
       "      <td>0.374</td>\n",
       "      <td>0.390</td>\n",
       "      <td>0.398</td>\n",
       "      <td>0.403</td>\n",
       "      <td>0.405</td>\n",
       "      <td>0.406</td>\n",
       "      <td>0.408</td>\n",
       "      <td>0.413</td>\n",
       "      <td>0.414</td>\n",
       "    </tr>\n",
       "    <tr>\n",
       "      <th>1</th>\n",
       "      <td>Albania</td>\n",
       "      <td>0.583</td>\n",
       "      <td>0.588</td>\n",
       "      <td>0.557</td>\n",
       "      <td>0.542</td>\n",
       "      <td>0.528</td>\n",
       "      <td>0.550</td>\n",
       "      <td>0.557</td>\n",
       "      <td>0.569</td>\n",
       "      <td>0.579</td>\n",
       "      <td>...</td>\n",
       "      <td>0.671</td>\n",
       "      <td>0.714</td>\n",
       "      <td>0.739</td>\n",
       "      <td>0.749</td>\n",
       "      <td>0.758</td>\n",
       "      <td>0.753</td>\n",
       "      <td>0.745</td>\n",
       "      <td>0.747</td>\n",
       "      <td>0.743</td>\n",
       "      <td>0.746</td>\n",
       "    </tr>\n",
       "    <tr>\n",
       "      <th>2</th>\n",
       "      <td>Algeria</td>\n",
       "      <td>0.385</td>\n",
       "      <td>0.395</td>\n",
       "      <td>0.405</td>\n",
       "      <td>0.414</td>\n",
       "      <td>0.424</td>\n",
       "      <td>0.431</td>\n",
       "      <td>0.443</td>\n",
       "      <td>0.458</td>\n",
       "      <td>0.473</td>\n",
       "      <td>...</td>\n",
       "      <td>0.626</td>\n",
       "      <td>0.644</td>\n",
       "      <td>0.639</td>\n",
       "      <td>0.639</td>\n",
       "      <td>0.652</td>\n",
       "      <td>0.659</td>\n",
       "      <td>0.660</td>\n",
       "      <td>0.665</td>\n",
       "      <td>0.668</td>\n",
       "      <td>0.672</td>\n",
       "    </tr>\n",
       "    <tr>\n",
       "      <th>3</th>\n",
       "      <td>Andorra</td>\n",
       "      <td>NaN</td>\n",
       "      <td>NaN</td>\n",
       "      <td>NaN</td>\n",
       "      <td>NaN</td>\n",
       "      <td>NaN</td>\n",
       "      <td>NaN</td>\n",
       "      <td>NaN</td>\n",
       "      <td>NaN</td>\n",
       "      <td>NaN</td>\n",
       "      <td>...</td>\n",
       "      <td>0.670</td>\n",
       "      <td>0.671</td>\n",
       "      <td>0.724</td>\n",
       "      <td>0.714</td>\n",
       "      <td>0.725</td>\n",
       "      <td>0.718</td>\n",
       "      <td>0.722</td>\n",
       "      <td>0.713</td>\n",
       "      <td>0.720</td>\n",
       "      <td>0.720</td>\n",
       "    </tr>\n",
       "    <tr>\n",
       "      <th>4</th>\n",
       "      <td>Angola</td>\n",
       "      <td>NaN</td>\n",
       "      <td>NaN</td>\n",
       "      <td>NaN</td>\n",
       "      <td>NaN</td>\n",
       "      <td>NaN</td>\n",
       "      <td>NaN</td>\n",
       "      <td>NaN</td>\n",
       "      <td>NaN</td>\n",
       "      <td>NaN</td>\n",
       "      <td>...</td>\n",
       "      <td>0.398</td>\n",
       "      <td>0.423</td>\n",
       "      <td>0.435</td>\n",
       "      <td>0.447</td>\n",
       "      <td>0.460</td>\n",
       "      <td>0.472</td>\n",
       "      <td>0.487</td>\n",
       "      <td>0.498</td>\n",
       "      <td>0.500</td>\n",
       "      <td>0.500</td>\n",
       "    </tr>\n",
       "  </tbody>\n",
       "</table>\n",
       "<p>5 rows × 31 columns</p>\n",
       "</div>"
      ],
      "text/plain": [
       "       Country   1990   1991   1992   1993   1994   1995   1996   1997   1998  \\\n",
       "0  Afghanistan  0.122  0.133  0.145  0.156  0.168  0.179  0.190  0.202  0.213   \n",
       "1      Albania  0.583  0.588  0.557  0.542  0.528  0.550  0.557  0.569  0.579   \n",
       "2      Algeria  0.385  0.395  0.405  0.414  0.424  0.431  0.443  0.458  0.473   \n",
       "3      Andorra    NaN    NaN    NaN    NaN    NaN    NaN    NaN    NaN    NaN   \n",
       "4       Angola    NaN    NaN    NaN    NaN    NaN    NaN    NaN    NaN    NaN   \n",
       "\n",
       "   ...   2010   2011   2012   2013   2014   2015   2016   2017   2018   2019  \n",
       "0  ...  0.372  0.374  0.390  0.398  0.403  0.405  0.406  0.408  0.413  0.414  \n",
       "1  ...  0.671  0.714  0.739  0.749  0.758  0.753  0.745  0.747  0.743  0.746  \n",
       "2  ...  0.626  0.644  0.639  0.639  0.652  0.659  0.660  0.665  0.668  0.672  \n",
       "3  ...  0.670  0.671  0.724  0.714  0.725  0.718  0.722  0.713  0.720  0.720  \n",
       "4  ...  0.398  0.423  0.435  0.447  0.460  0.472  0.487  0.498  0.500  0.500  \n",
       "\n",
       "[5 rows x 31 columns]"
      ]
     },
     "execution_count": 11,
     "metadata": {},
     "output_type": "execute_result"
    }
   ],
   "source": [
    "# URL to fetch data from\n",
    "URL_EDU = \"https://en.wikipedia.org/wiki/Education_Index\"\n",
    "\n",
    "# Fetch the HTML content\n",
    "response = requests.get(URL_EDU)\n",
    "soup = BeautifulSoup(response.content, 'html.parser')\n",
    "\n",
    "# Find the table and read it into a DataFrame\n",
    "table = soup.find_all('table')[0]  # Assuming the first table is the one we want\n",
    "table_IO = StringIO(str(table))\n",
    "EDU = pd.read_html(table_IO, flavor='bs4', header=0)[0]\n",
    "\n",
    "EDU.head(5)"
   ]
  },
  {
   "cell_type": "code",
   "execution_count": 16,
   "metadata": {},
   "outputs": [
    {
     "data": {
      "text/html": [
       "<div>\n",
       "<style scoped>\n",
       "    .dataframe tbody tr th:only-of-type {\n",
       "        vertical-align: middle;\n",
       "    }\n",
       "\n",
       "    .dataframe tbody tr th {\n",
       "        vertical-align: top;\n",
       "    }\n",
       "\n",
       "    .dataframe thead th {\n",
       "        text-align: right;\n",
       "    }\n",
       "</style>\n",
       "<table border=\"1\" class=\"dataframe\">\n",
       "  <thead>\n",
       "    <tr style=\"text-align: right;\">\n",
       "      <th></th>\n",
       "      <th>GDP</th>\n",
       "      <th>Growth</th>\n",
       "      <th>Population</th>\n",
       "      <th>PerCapita</th>\n",
       "      <th>Share</th>\n",
       "    </tr>\n",
       "  </thead>\n",
       "  <tbody>\n",
       "    <tr>\n",
       "      <th>0</th>\n",
       "      <td>25.46270</td>\n",
       "      <td>206</td>\n",
       "      <td>341.534046</td>\n",
       "      <td>74554</td>\n",
       "      <td>2532</td>\n",
       "    </tr>\n",
       "    <tr>\n",
       "      <th>1</th>\n",
       "      <td>17.96320</td>\n",
       "      <td>299</td>\n",
       "      <td>1425.179569</td>\n",
       "      <td>12604</td>\n",
       "      <td>1786</td>\n",
       "    </tr>\n",
       "    <tr>\n",
       "      <th>2</th>\n",
       "      <td>4.23114</td>\n",
       "      <td>103</td>\n",
       "      <td>124.997578</td>\n",
       "      <td>33850</td>\n",
       "      <td>421</td>\n",
       "    </tr>\n",
       "    <tr>\n",
       "      <th>3</th>\n",
       "      <td>4.07219</td>\n",
       "      <td>179</td>\n",
       "      <td>84.086227</td>\n",
       "      <td>48429</td>\n",
       "      <td>405</td>\n",
       "    </tr>\n",
       "    <tr>\n",
       "      <th>4</th>\n",
       "      <td>3.38509</td>\n",
       "      <td>700</td>\n",
       "      <td>1425.423212</td>\n",
       "      <td>2375</td>\n",
       "      <td>337</td>\n",
       "    </tr>\n",
       "  </tbody>\n",
       "</table>\n",
       "</div>"
      ],
      "text/plain": [
       "        GDP  Growth   Population  PerCapita  Share\n",
       "0  25.46270     206   341.534046      74554   2532\n",
       "1  17.96320     299  1425.179569      12604   1786\n",
       "2   4.23114     103   124.997578      33850    421\n",
       "3   4.07219     179    84.086227      48429    405\n",
       "4   3.38509     700  1425.423212       2375    337"
      ]
     },
     "execution_count": 16,
     "metadata": {},
     "output_type": "execute_result"
    }
   ],
   "source": [
    "GDP.head()"
   ]
  },
  {
   "cell_type": "code",
   "execution_count": 15,
   "metadata": {},
   "outputs": [
    {
     "data": {
      "text/plain": [
       "Index(['GDP', 'Growth', 'Population', 'PerCapita', 'Share'], dtype='object')"
      ]
     },
     "execution_count": 15,
     "metadata": {},
     "output_type": "execute_result"
    }
   ],
   "source": [
    "GDP.columns"
   ]
  },
  {
   "cell_type": "markdown",
   "metadata": {
    "id": "g6aimlTHJ1eo"
   },
   "source": [
    "### 1.1 Cleaning the Education Data (3 points)\n",
    "Perform the following tasks to clean the `EDU` DataFrame:\n",
    "\n",
    "1. Modify the resulting DataFrame `EDU` to only keep 2 variables: 1) the country’s name and 2) its education index from 2019.\n",
    "2. Rename the variable named “2019” to “EDIndex”.\n",
    "3. Update the dtype of 'Country' to a string.  \n",
    "\n",
    "Display the first 5 rows of `EDU` and the info of `EDU` after making these changes."
   ]
  },
  {
   "cell_type": "code",
   "execution_count": 19,
   "metadata": {},
   "outputs": [
    {
     "name": "stdout",
     "output_type": "stream",
     "text": [
      "<class 'pandas.core.frame.DataFrame'>\n",
      "RangeIndex: 189 entries, 0 to 188\n",
      "Data columns (total 2 columns):\n",
      " #   Column   Non-Null Count  Dtype  \n",
      "---  ------   --------------  -----  \n",
      " 0   Country  189 non-null    object \n",
      " 1   EDIndex  189 non-null    float64\n",
      "dtypes: float64(1), object(1)\n",
      "memory usage: 3.1+ KB\n"
     ]
    },
    {
     "name": "stderr",
     "output_type": "stream",
     "text": [
      "C:\\Users\\conor\\AppData\\Local\\Temp\\ipykernel_21308\\2042173733.py:3: SettingWithCopyWarning: \n",
      "A value is trying to be set on a copy of a slice from a DataFrame\n",
      "\n",
      "See the caveats in the documentation: https://pandas.pydata.org/pandas-docs/stable/user_guide/indexing.html#returning-a-view-versus-a-copy\n",
      "  EDU_clean.rename(columns={'2019': 'EDIndex'}, inplace=True)\n",
      "C:\\Users\\conor\\AppData\\Local\\Temp\\ipykernel_21308\\2042173733.py:5: SettingWithCopyWarning: \n",
      "A value is trying to be set on a copy of a slice from a DataFrame.\n",
      "Try using .loc[row_indexer,col_indexer] = value instead\n",
      "\n",
      "See the caveats in the documentation: https://pandas.pydata.org/pandas-docs/stable/user_guide/indexing.html#returning-a-view-versus-a-copy\n",
      "  EDU_clean['Country'] = EDU_clean['Country'].astype(str)\n"
     ]
    },
    {
     "data": {
      "text/plain": [
       "(       Country  EDIndex\n",
       " 0  Afghanistan    0.414\n",
       " 1      Albania    0.746\n",
       " 2      Algeria    0.672\n",
       " 3      Andorra    0.720\n",
       " 4       Angola    0.500,\n",
       " None)"
      ]
     },
     "execution_count": 19,
     "metadata": {},
     "output_type": "execute_result"
    }
   ],
   "source": [
    "EDU_clean = EDU[['Country', '2019']]\n",
    "\n",
    "EDU_clean.rename(columns={'2019': 'EDIndex'}, inplace=True)\n",
    "\n",
    "EDU_clean['Country'] = EDU_clean['Country'].astype(str)\n",
    "EDU_clean.head(5), EDU_clean.info()"
   ]
  },
  {
   "cell_type": "markdown",
   "metadata": {
    "id": "WMjecRwgJ_OM"
   },
   "source": [
    "## 2: Merging the Datasets (8 points)\n",
    "\n",
    "Now, we are going to merge the datasets for maximum gains. Make sure you carefully read the instructions for each question. Be very careful in this part of the assignment."
   ]
  },
  {
   "cell_type": "markdown",
   "metadata": {
    "id": "j_3YMHidKNkQ"
   },
   "source": [
    "### 2.0 Joining GDP and EDU (2 Points)\n",
    "The dataset `GDP` is our primary dataset. Create a new DataFrame `GDP_EDU` that brings the the education data from `EDU` into the dataset `GDP` using a left join only. Display the first 12 rows of `GDP_EDU`."
   ]
  },
  {
   "cell_type": "code",
   "execution_count": 31,
   "metadata": {
    "id": "FUM4PUNnKb8m"
   },
   "outputs": [
    {
     "data": {
      "text/html": [
       "<div>\n",
       "<style scoped>\n",
       "    .dataframe tbody tr th:only-of-type {\n",
       "        vertical-align: middle;\n",
       "    }\n",
       "\n",
       "    .dataframe tbody tr th {\n",
       "        vertical-align: top;\n",
       "    }\n",
       "\n",
       "    .dataframe thead th {\n",
       "        text-align: right;\n",
       "    }\n",
       "</style>\n",
       "<table border=\"1\" class=\"dataframe\">\n",
       "  <thead>\n",
       "    <tr style=\"text-align: right;\">\n",
       "      <th></th>\n",
       "      <th>Country</th>\n",
       "      <th>GDP</th>\n",
       "      <th>Growth</th>\n",
       "      <th>Population</th>\n",
       "      <th>PerCapita</th>\n",
       "      <th>Share</th>\n",
       "      <th>EDIndex</th>\n",
       "    </tr>\n",
       "  </thead>\n",
       "  <tbody>\n",
       "    <tr>\n",
       "      <th>0</th>\n",
       "      <td>United States</td>\n",
       "      <td>25.46270</td>\n",
       "      <td>206</td>\n",
       "      <td>341.534046</td>\n",
       "      <td>74554</td>\n",
       "      <td>2532</td>\n",
       "      <td>0.900</td>\n",
       "    </tr>\n",
       "    <tr>\n",
       "      <th>1</th>\n",
       "      <td>China</td>\n",
       "      <td>17.96320</td>\n",
       "      <td>299</td>\n",
       "      <td>1425.179569</td>\n",
       "      <td>12604</td>\n",
       "      <td>1786</td>\n",
       "      <td>0.862</td>\n",
       "    </tr>\n",
       "    <tr>\n",
       "      <th>2</th>\n",
       "      <td>Japan</td>\n",
       "      <td>4.23114</td>\n",
       "      <td>103</td>\n",
       "      <td>124.997578</td>\n",
       "      <td>33850</td>\n",
       "      <td>421</td>\n",
       "      <td>0.851</td>\n",
       "    </tr>\n",
       "    <tr>\n",
       "      <th>3</th>\n",
       "      <td>Germany</td>\n",
       "      <td>4.07219</td>\n",
       "      <td>179</td>\n",
       "      <td>84.086227</td>\n",
       "      <td>48429</td>\n",
       "      <td>405</td>\n",
       "      <td>0.943</td>\n",
       "    </tr>\n",
       "    <tr>\n",
       "      <th>4</th>\n",
       "      <td>India</td>\n",
       "      <td>3.38509</td>\n",
       "      <td>700</td>\n",
       "      <td>1425.423212</td>\n",
       "      <td>2375</td>\n",
       "      <td>337</td>\n",
       "      <td>0.555</td>\n",
       "    </tr>\n",
       "    <tr>\n",
       "      <th>5</th>\n",
       "      <td>United Kingdom</td>\n",
       "      <td>3.07067</td>\n",
       "      <td>410</td>\n",
       "      <td>68.179315</td>\n",
       "      <td>45038</td>\n",
       "      <td>305</td>\n",
       "      <td>0.948</td>\n",
       "    </tr>\n",
       "    <tr>\n",
       "      <th>6</th>\n",
       "      <td>France</td>\n",
       "      <td>2.78291</td>\n",
       "      <td>256</td>\n",
       "      <td>66.277409</td>\n",
       "      <td>41989</td>\n",
       "      <td>277</td>\n",
       "      <td>0.817</td>\n",
       "    </tr>\n",
       "    <tr>\n",
       "      <th>7</th>\n",
       "      <td>Russia</td>\n",
       "      <td>2.24042</td>\n",
       "      <td>207</td>\n",
       "      <td>145.579899</td>\n",
       "      <td>15390</td>\n",
       "      <td>223</td>\n",
       "      <td>NaN</td>\n",
       "    </tr>\n",
       "    <tr>\n",
       "      <th>8</th>\n",
       "      <td>Canada</td>\n",
       "      <td>2.13984</td>\n",
       "      <td>340</td>\n",
       "      <td>38.821259</td>\n",
       "      <td>55120</td>\n",
       "      <td>213</td>\n",
       "      <td>0.894</td>\n",
       "    </tr>\n",
       "    <tr>\n",
       "      <th>9</th>\n",
       "      <td>Italy</td>\n",
       "      <td>2.01043</td>\n",
       "      <td>367</td>\n",
       "      <td>59.619115</td>\n",
       "      <td>33721</td>\n",
       "      <td>200</td>\n",
       "      <td>0.793</td>\n",
       "    </tr>\n",
       "    <tr>\n",
       "      <th>10</th>\n",
       "      <td>Brazil</td>\n",
       "      <td>1.92010</td>\n",
       "      <td>290</td>\n",
       "      <td>210.306415</td>\n",
       "      <td>9130</td>\n",
       "      <td>191</td>\n",
       "      <td>0.694</td>\n",
       "    </tr>\n",
       "    <tr>\n",
       "      <th>11</th>\n",
       "      <td>Australia</td>\n",
       "      <td>1.67542</td>\n",
       "      <td>362</td>\n",
       "      <td>26.200984</td>\n",
       "      <td>63945</td>\n",
       "      <td>167</td>\n",
       "      <td>0.924</td>\n",
       "    </tr>\n",
       "  </tbody>\n",
       "</table>\n",
       "</div>"
      ],
      "text/plain": [
       "           Country       GDP  Growth   Population  PerCapita  Share  EDIndex\n",
       "0    United States  25.46270     206   341.534046      74554   2532    0.900\n",
       "1            China  17.96320     299  1425.179569      12604   1786    0.862\n",
       "2            Japan   4.23114     103   124.997578      33850    421    0.851\n",
       "3          Germany   4.07219     179    84.086227      48429    405    0.943\n",
       "4            India   3.38509     700  1425.423212       2375    337    0.555\n",
       "5   United Kingdom   3.07067     410    68.179315      45038    305    0.948\n",
       "6           France   2.78291     256    66.277409      41989    277    0.817\n",
       "7           Russia   2.24042     207   145.579899      15390    223      NaN\n",
       "8           Canada   2.13984     340    38.821259      55120    213    0.894\n",
       "9            Italy   2.01043     367    59.619115      33721    200    0.793\n",
       "10          Brazil   1.92010     290   210.306415       9130    191    0.694\n",
       "11       Australia   1.67542     362    26.200984      63945    167    0.924"
      ]
     },
     "execution_count": 31,
     "metadata": {},
     "output_type": "execute_result"
    }
   ],
   "source": [
    "GDP_EDU = pd.merge(GDP, EDU_clean, how='left', on='Country')\n",
    "\n",
    "GDP_EDU.head(12)\n"
   ]
  },
  {
   "cell_type": "markdown",
   "metadata": {
    "id": "oJN0LaQeLlH1"
   },
   "source": [
    "### 2.1 Missing Education Index (2 Points)\n",
    "\n",
    "How many countries in `GDP_EDU` have missing values for Education Index? Show code that can be used to answer this question and then write your answer in complete sentences."
   ]
  },
  {
   "cell_type": "code",
   "execution_count": 32,
   "metadata": {
    "id": "6dqe8ujjMg9o"
   },
   "outputs": [
    {
     "data": {
      "text/plain": [
       "19"
      ]
     },
     "execution_count": 32,
     "metadata": {},
     "output_type": "execute_result"
    }
   ],
   "source": [
    "missing_EDU = GDP_EDU['EDIndex'].isna().sum()\n",
    "missing_EDU"
   ]
  },
  {
   "cell_type": "markdown",
   "metadata": {
    "id": "24d4C3WqMi3V"
   },
   "source": [
    "There are 19 countries in GDP_EDU that have missing values for the Education Index."
   ]
  },
  {
   "cell_type": "markdown",
   "metadata": {
    "id": "rMyUH1hCMsLY"
   },
   "source": [
    "### 2.2 Data Inspection (3 Points)\n",
    "Closely inspect the original datasets and answer the following questions about GDP_EDU in complete sentences. You can use the code if needed, but it is not required. Please show all work. If you don’t reference the appropriate dataset or you are not specific in your answers, you will get 0 points."
   ]
  },
  {
   "cell_type": "markdown",
   "metadata": {
    "id": "oRG85iC8NFIq"
   },
   "source": [
    "#### 2.2.0 Why is there no education index for Iran in the dataset `G_EDU`? (1 Point)"
   ]
  },
  {
   "cell_type": "markdown",
   "metadata": {
    "id": "4n3P8gzBNMXH"
   },
   "source": [
    " Iran is likely missing from the GDP_EDU dataset because the source dataset from Wikipedia may not contain information on Iran's education index for 2019."
   ]
  },
  {
   "cell_type": "markdown",
   "metadata": {
    "id": "Ice-kEpJNmHq"
   },
   "source": [
    "#### 2.2.1 Why is there no education index for State of Palestine in the dataset `GDP_EDU`? (1 Point)"
   ]
  },
  {
   "cell_type": "markdown",
   "metadata": {
    "id": "SUeX2RAdN7Z2"
   },
   "source": [
    "Palestine might not have an education index reported for 2019 in the Wikipedia due to political reasons or lack of available data."
   ]
  },
  {
   "cell_type": "markdown",
   "metadata": {
    "id": "vqum5LyvOAWa"
   },
   "source": [
    "#### 2.2.2 Why is there no education index for Laos in the dataset `GDP_EDU`? (1 point)"
   ]
  },
  {
   "cell_type": "markdown",
   "metadata": {
    "id": "iT6jN_vWOLID"
   },
   "source": [
    "Laos is likely missing from the GDP_EDU dataset because it may not have reported education index data for 2019 on Wikipedia."
   ]
  },
  {
   "cell_type": "markdown",
   "metadata": {
    "id": "q5lvXvaCPUdf"
   },
   "source": [
    "### 2.2 Removing NA Values (1 point)\n",
    "\n",
    "Instead of replacing or dropping all the countries with missing values by hand, we will just drop all rows that are missing the Education Index to move forward with the analysis portion. Drop all rows from `GDP_EDU` that are null for `EDIndex`.\n",
    "\n"
   ]
  },
  {
   "cell_type": "code",
   "execution_count": 33,
   "metadata": {
    "id": "WUgW_EA7P72q"
   },
   "outputs": [
    {
     "data": {
      "text/html": [
       "<div>\n",
       "<style scoped>\n",
       "    .dataframe tbody tr th:only-of-type {\n",
       "        vertical-align: middle;\n",
       "    }\n",
       "\n",
       "    .dataframe tbody tr th {\n",
       "        vertical-align: top;\n",
       "    }\n",
       "\n",
       "    .dataframe thead th {\n",
       "        text-align: right;\n",
       "    }\n",
       "</style>\n",
       "<table border=\"1\" class=\"dataframe\">\n",
       "  <thead>\n",
       "    <tr style=\"text-align: right;\">\n",
       "      <th></th>\n",
       "      <th>Country</th>\n",
       "      <th>GDP</th>\n",
       "      <th>Growth</th>\n",
       "      <th>Population</th>\n",
       "      <th>PerCapita</th>\n",
       "      <th>Share</th>\n",
       "      <th>EDIndex</th>\n",
       "    </tr>\n",
       "  </thead>\n",
       "  <tbody>\n",
       "    <tr>\n",
       "      <th>0</th>\n",
       "      <td>United States</td>\n",
       "      <td>25.46270</td>\n",
       "      <td>206</td>\n",
       "      <td>341.534046</td>\n",
       "      <td>74554</td>\n",
       "      <td>2532</td>\n",
       "      <td>0.900</td>\n",
       "    </tr>\n",
       "    <tr>\n",
       "      <th>1</th>\n",
       "      <td>China</td>\n",
       "      <td>17.96320</td>\n",
       "      <td>299</td>\n",
       "      <td>1425.179569</td>\n",
       "      <td>12604</td>\n",
       "      <td>1786</td>\n",
       "      <td>0.862</td>\n",
       "    </tr>\n",
       "    <tr>\n",
       "      <th>2</th>\n",
       "      <td>Japan</td>\n",
       "      <td>4.23114</td>\n",
       "      <td>103</td>\n",
       "      <td>124.997578</td>\n",
       "      <td>33850</td>\n",
       "      <td>421</td>\n",
       "      <td>0.851</td>\n",
       "    </tr>\n",
       "    <tr>\n",
       "      <th>3</th>\n",
       "      <td>Germany</td>\n",
       "      <td>4.07219</td>\n",
       "      <td>179</td>\n",
       "      <td>84.086227</td>\n",
       "      <td>48429</td>\n",
       "      <td>405</td>\n",
       "      <td>0.943</td>\n",
       "    </tr>\n",
       "    <tr>\n",
       "      <th>4</th>\n",
       "      <td>India</td>\n",
       "      <td>3.38509</td>\n",
       "      <td>700</td>\n",
       "      <td>1425.423212</td>\n",
       "      <td>2375</td>\n",
       "      <td>337</td>\n",
       "      <td>0.555</td>\n",
       "    </tr>\n",
       "  </tbody>\n",
       "</table>\n",
       "</div>"
      ],
      "text/plain": [
       "         Country       GDP  Growth   Population  PerCapita  Share  EDIndex\n",
       "0  United States  25.46270     206   341.534046      74554   2532    0.900\n",
       "1          China  17.96320     299  1425.179569      12604   1786    0.862\n",
       "2          Japan   4.23114     103   124.997578      33850    421    0.851\n",
       "3        Germany   4.07219     179    84.086227      48429    405    0.943\n",
       "4          India   3.38509     700  1425.423212       2375    337    0.555"
      ]
     },
     "execution_count": 33,
     "metadata": {},
     "output_type": "execute_result"
    }
   ],
   "source": [
    "GDP_EDU_clean = GDP_EDU.dropna(subset=['EDIndex'])\n",
    "GDP_EDU_clean.head(5)"
   ]
  },
  {
   "cell_type": "markdown",
   "metadata": {
    "id": "I79nDD9XQgJa"
   },
   "source": [
    "## 3. Analyzing the Merged Dataset (12 points)\n",
    "\n",
    "In these questions, find the answer using code, and then answer the question using complete sentences below the code."
   ]
  },
  {
   "cell_type": "markdown",
   "metadata": {
    "id": "d4R_GMZNQXjA"
   },
   "source": [
    "### 3.0 Above Average GDP PerCapita (2 Points)\n",
    "How many countries have a GDP per capita above the global average?"
   ]
  },
  {
   "cell_type": "code",
   "execution_count": 34,
   "metadata": {
    "id": "bhFr3T5KRom4"
   },
   "outputs": [
    {
     "data": {
      "text/plain": [
       "49"
      ]
     },
     "execution_count": 34,
     "metadata": {},
     "output_type": "execute_result"
    }
   ],
   "source": [
    "global_avg_gdp_percapita = GDP_EDU_clean['PerCapita'].mean()\n",
    "above_avg_gdp_countries = GDP_EDU_clean[GDP_EDU_clean['PerCapita'] > global_avg_gdp_percapita].shape[0]\n",
    "above_avg_gdp_countries\n"
   ]
  },
  {
   "cell_type": "markdown",
   "metadata": {
    "id": "8QPOZi6RRo3i"
   },
   "source": [
    "There are 49 countries with a GDP per capita above the global average"
   ]
  },
  {
   "cell_type": "markdown",
   "metadata": {
    "id": "R-SBUF38SC10"
   },
   "source": [
    "#### 3.1 Highest GDP Growth Rate (4 Points)\n",
    "\n",
    "*   Of the countries that have above average GDP PerCapita, what country has the highest GDP growth rate?\n",
    "*   Of the countries that have below average GDP PerCapita, what country has the highest GDP growth rate?"
   ]
  },
  {
   "cell_type": "code",
   "execution_count": 35,
   "metadata": {
    "id": "XUwOvFUpSWoI"
   },
   "outputs": [
    {
     "data": {
      "text/plain": [
       "(Country         Guyana\n",
       " GDP           0.015358\n",
       " Growth            5780\n",
       " Population    0.821637\n",
       " PerCapita        18691\n",
       " Share                2\n",
       " EDIndex          0.601\n",
       " Name: 127, dtype: object,\n",
       " Country         Ukraine\n",
       " GDP            0.160503\n",
       " Growth             2910\n",
       " Population    41.048766\n",
       " PerCapita          3910\n",
       " Share                16\n",
       " EDIndex           0.799\n",
       " Name: 57, dtype: object)"
      ]
     },
     "execution_count": 35,
     "metadata": {},
     "output_type": "execute_result"
    }
   ],
   "source": [
    "above_avg_gdp = GDP_EDU_clean[GDP_EDU_clean['PerCapita'] > global_avg_gdp_percapita]\n",
    "highest_growth_above = above_avg_gdp.loc[above_avg_gdp['Growth'].idxmax()]\n",
    "\n",
    "below_avg_gdp = GDP_EDU_clean[GDP_EDU_clean['PerCapita'] <= global_avg_gdp_percapita]\n",
    "highest_growth_below = below_avg_gdp.loc[below_avg_gdp['Growth'].idxmax()]\n",
    "\n",
    "highest_growth_above, highest_growth_below\n"
   ]
  },
  {
   "cell_type": "markdown",
   "metadata": {
    "id": "VoZN-T1jSg0o"
   },
   "source": [
    "The country with the highest GDP growth rate among those with above-average GDP per capita is Guyana.\n",
    "The country with the highest GDP growth rate among those with below-average GDP per capita is Ukraine."
   ]
  },
  {
   "cell_type": "markdown",
   "metadata": {
    "id": "jClnIT_ESmOa"
   },
   "source": [
    "#### 3.2 Lowest Education Index (4 Points)\n",
    "\n",
    "*   Of the countries that have above average GDP PerCapita, what country has the lowest education index?\n",
    "*   Of the countries that have below average GDP PerCapita, what country has the lowest education index?"
   ]
  },
  {
   "cell_type": "code",
   "execution_count": 36,
   "metadata": {
    "id": "sKTAa-2FSvhz"
   },
   "outputs": [
    {
     "data": {
      "text/plain": [
       "(Country         Guyana\n",
       " GDP           0.015358\n",
       " Growth            5780\n",
       " Population    0.821637\n",
       " PerCapita        18691\n",
       " Share                2\n",
       " EDIndex          0.601\n",
       " Name: 127, dtype: object,\n",
       " Country           Niger\n",
       " GDP             0.01397\n",
       " Growth             1150\n",
       " Population    25.311973\n",
       " PerCapita           552\n",
       " Share                 1\n",
       " EDIndex           0.249\n",
       " Name: 131, dtype: object)"
      ]
     },
     "execution_count": 36,
     "metadata": {},
     "output_type": "execute_result"
    }
   ],
   "source": [
    "lowest_edu_above = above_avg_gdp.loc[above_avg_gdp['EDIndex'].idxmin()]\n",
    "lowest_edu_below = below_avg_gdp.loc[below_avg_gdp['EDIndex'].idxmin()]\n",
    "\n",
    "lowest_edu_above, lowest_edu_below\n"
   ]
  },
  {
   "cell_type": "markdown",
   "metadata": {
    "id": "zvNLdg2xTTzs"
   },
   "source": [
    "The country with the lowest education index among those with above-average GDP per capita is Guyana.\n",
    "The country with the lowest education index among those with below-average GDP per capita is Niger."
   ]
  },
  {
   "cell_type": "markdown",
   "metadata": {
    "id": "X0Zindd6TaWL"
   },
   "source": [
    "#### 3.3 Critical Thinking (2 points)\n",
    "\n",
    "State two additional questions you could answer with the merged dataset. Be creative. You do not need to find the answer, but are welcome to if you are curious."
   ]
  },
  {
   "cell_type": "markdown",
   "metadata": {
    "id": "q2bAH32CTnAd"
   },
   "source": [
    "1. Is there a correlation between a country’s GDP growth rate and its education index?\n",
    "2. How does population size relate to GDP growth or education index across different countries?"
   ]
  }
 ],
 "metadata": {
  "colab": {
   "collapsed_sections": [
    "VvovrpUMe-Ox",
    "6s94bGs1d0qV",
    "vEv6udTVejAs",
    "cQ08LJCYj3Gx",
    "J9RFL4bCnbkm",
    "BtnORIYQ82OD",
    "DFCyg5sU9nVg",
    "4ExGvJDzEgvS",
    "WMjecRwgJ_OM",
    "I79nDD9XQgJa"
   ],
   "provenance": []
  },
  "kernelspec": {
   "display_name": "Python 3",
   "language": "python",
   "name": "python3"
  },
  "language_info": {
   "codemirror_mode": {
    "name": "ipython",
    "version": 3
   },
   "file_extension": ".py",
   "mimetype": "text/x-python",
   "name": "python",
   "nbconvert_exporter": "python",
   "pygments_lexer": "ipython3",
   "version": "3.11.4"
  }
 },
 "nbformat": 4,
 "nbformat_minor": 4
}
