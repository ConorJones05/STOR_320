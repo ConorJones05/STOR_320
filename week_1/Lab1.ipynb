{
 "cells": [
  {
   "cell_type": "markdown",
   "metadata": {},
   "source": [
    "# Lab 1\n",
    "\n",
    "Labs in general are for you to solve short programming challenges in class. In contrast, homework assignments will involve more challenging and lengthy problems.\n",
    "\n",
    "Feel free to ask the TAs for help if there is anything you do not understand. Your midterm exams will be like this, so it is highly beneficial for you to attend these labs.\n",
    "\n",
    "The first lab is to gain basic familiarity with Python.\n",
    "\n",
    "- You are not to use any 3rd party library such as numpy for the first lab\n",
    "\n",
    "- Do this lab without using the web to search for solutions\n",
    "\n",
    "Please remember to submit the lab on Gradescope. "
   ]
  },
  {
   "cell_type": "markdown",
   "metadata": {},
   "source": [
    "### A few points to review\n",
    "1. Markdown\n",
    "    - Emphasis\n",
    "    - lists\n",
    "    - math\n",
    "2. Data types\n",
    "    - integer, float, string, boolean, None\n",
    "3. Operators\n",
    "    - arithmetic, assignment, comparison, logical, etc."
   ]
  },
  {
   "cell_type": "markdown",
   "metadata": {},
   "source": [
    "**1**. (0.5 points). Bold and Italics: Write a sentence where one word is bold, another is italic, and another is both bold and italic."
   ]
  },
  {
   "cell_type": "markdown",
   "metadata": {},
   "source": [
    "My name is **Conor** I am a *Student* at ***UNC Chapel Hill***"
   ]
  },
  {
   "cell_type": "markdown",
   "metadata": {},
   "source": [
    "**2**. (1 point). Write a LaTeX equation using the `$$` delimiter to display the formula for the standard deviation."
   ]
  },
  {
   "cell_type": "markdown",
   "metadata": {},
   "source": [
    "$$\\sigma\\ =  \\sqrt{\\frac{\\sum(x_i - \\mu)}{N}}$$\n"
   ]
  },
  {
   "cell_type": "markdown",
   "metadata": {},
   "source": [
    "**3**. (1 point). Create two Boolean variables and use them in a logical expression involving `and`, `or`, and `not` operators. Show the result of each operation."
   ]
  },
  {
   "cell_type": "code",
   "execution_count": 16,
   "metadata": {},
   "outputs": [
    {
     "name": "stdout",
     "output_type": "stream",
     "text": [
      "True\n",
      "True\n",
      "False\n"
     ]
    }
   ],
   "source": [
    "x = True\n",
    "y = False\n",
    "\n",
    "print(not(x) == y)\n",
    "print(x or y)\n",
    "print(x and y)"
   ]
  },
  {
   "cell_type": "markdown",
   "metadata": {},
   "source": [
    "**4** (1 point). \n",
    "- Define a string that represents a number (e.g., \"42\") and convert it to an integer.\n",
    "- Perform arithmetic operations between this integer and another integer of your choice (e.g., addition, multiplication).\n",
    "- Convert the result back to a string and concatenate it with another string. Print the final result."
   ]
  },
  {
   "cell_type": "code",
   "execution_count": 17,
   "metadata": {},
   "outputs": [
    {
     "name": "stdout",
     "output_type": "stream",
     "text": [
      "25242\n"
     ]
    }
   ],
   "source": [
    "fourtytwo = \"42\"\n",
    "fourtytwoint = int(fourtytwo)\n",
    "twosixtwo = fourtytwoint * 6\n",
    "twosixtwostr = str(twosixtwo)\n",
    "print(twosixtwostr + fourtytwo)\n",
    "\n"
   ]
  },
  {
   "cell_type": "markdown",
   "metadata": {},
   "source": [
    "**5**. (1 point). Given two strings s1 = \"Hello\" and s2 = \"World\", concatenate them with a space in between and print the result, and print the length of the concatenated string. "
   ]
  },
  {
   "cell_type": "code",
   "execution_count": 18,
   "metadata": {},
   "outputs": [
    {
     "name": "stdout",
     "output_type": "stream",
     "text": [
      "Hello Word\n",
      "10\n"
     ]
    }
   ],
   "source": [
    "s1 = \"Hello\"\n",
    "s2 = \"Word\"\n",
    "concat = s1 + \" \"+ s2\n",
    "print(concat)\n",
    "print(len(concat))"
   ]
  },
  {
   "cell_type": "markdown",
   "metadata": {},
   "source": [
    "**6**. (1 point). Given the email address `email = \"user@example.com\"`, split it into the username and domain parts and print both."
   ]
  },
  {
   "cell_type": "code",
   "execution_count": 19,
   "metadata": {},
   "outputs": [
    {
     "data": {
      "text/plain": [
       "['user', 'example.com']"
      ]
     },
     "execution_count": 19,
     "metadata": {},
     "output_type": "execute_result"
    }
   ],
   "source": [
    "email = \"user@example.com\"\n",
    "email.split(\"@\")"
   ]
  },
  {
   "cell_type": "markdown",
   "metadata": {},
   "source": [
    "**7**. (1 point). Given the string `s = \"The quick brown fox jumps over the lazy dog\"`, find and print the starting index of the substring `\"fox\"`."
   ]
  },
  {
   "cell_type": "code",
   "execution_count": 20,
   "metadata": {},
   "outputs": [
    {
     "data": {
      "text/plain": [
       "16"
      ]
     },
     "execution_count": 20,
     "metadata": {},
     "output_type": "execute_result"
    }
   ],
   "source": [
    "s = \"The quick brown fox jumps over the lazy dog\"\n",
    "s.find(\"fox\")"
   ]
  },
  {
   "cell_type": "markdown",
   "metadata": {},
   "source": [
    "**8** (1.5 points). Give the string `s = \"The quick brown fox jumps over the lazy dog\"`, return the indices of `\"fox\"` and `\"dog\"`. "
   ]
  },
  {
   "cell_type": "code",
   "execution_count": 21,
   "metadata": {},
   "outputs": [
    {
     "name": "stdout",
     "output_type": "stream",
     "text": [
      "16\n"
     ]
    },
    {
     "data": {
      "text/plain": [
       "40"
      ]
     },
     "execution_count": 21,
     "metadata": {},
     "output_type": "execute_result"
    }
   ],
   "source": [
    "print(s.find(\"fox\"))\n",
    "s.find(\"dog\")"
   ]
  },
  {
   "cell_type": "markdown",
   "metadata": {},
   "source": [
    "**9**. (2 points). Given the string `s = \"data\"`, pad it on the right with `*` to ensure the total length is 10 and print the result.\n",
    "\n",
    "Hint: `ljust()`"
   ]
  },
  {
   "cell_type": "code",
   "execution_count": 22,
   "metadata": {},
   "outputs": [
    {
     "data": {
      "text/plain": [
       "'data******'"
      ]
     },
     "execution_count": 22,
     "metadata": {},
     "output_type": "execute_result"
    }
   ],
   "source": [
    "s = \"data\"\n",
    "s.ljust(10, \"*\")\n",
    "\n"
   ]
  }
 ],
 "metadata": {
  "kernelspec": {
   "display_name": "Python 3 (ipykernel)",
   "language": "python",
   "name": "python3"
  },
  "language_info": {
   "codemirror_mode": {
    "name": "ipython",
    "version": 3
   },
   "file_extension": ".py",
   "mimetype": "text/x-python",
   "name": "python",
   "nbconvert_exporter": "python",
   "pygments_lexer": "ipython3",
   "version": "3.11.4"
  }
 },
 "nbformat": 4,
 "nbformat_minor": 4
}
